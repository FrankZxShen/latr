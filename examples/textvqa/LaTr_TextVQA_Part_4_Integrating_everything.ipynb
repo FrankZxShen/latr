{
  "nbformat": 4,
  "nbformat_minor": 0,
  "metadata": {
    "colab": {
      "name": "LaTr_TextVQA_Part_4_Integrating everything",
      "provenance": [],
      "collapsed_sections": [],
      "mount_file_id": "1E9xZmYfWGap362TZHIm2CyGWmkH2Uz9q",
      "authorship_tag": "ABX9TyP1kqORqnyCzK5UKGZHoVbx",
      "include_colab_link": true
    },
    "kernelspec": {
      "name": "python3",
      "display_name": "Python 3"
    },
    "language_info": {
      "name": "python"
    },
    "accelerator": "GPU",
    "gpuClass": "standard",
    "widgets": {
      "application/vnd.jupyter.widget-state+json": {
        "4d82525fdb424497a51b99f6c52cc0e9": {
          "model_module": "@jupyter-widgets/controls",
          "model_name": "HBoxModel",
          "model_module_version": "1.5.0",
          "state": {
            "_dom_classes": [],
            "_model_module": "@jupyter-widgets/controls",
            "_model_module_version": "1.5.0",
            "_model_name": "HBoxModel",
            "_view_count": null,
            "_view_module": "@jupyter-widgets/controls",
            "_view_module_version": "1.5.0",
            "_view_name": "HBoxView",
            "box_style": "",
            "children": [
              "IPY_MODEL_10606dfc988243c79848598af14f1178",
              "IPY_MODEL_40049b2252b949e4a2a3fc3f597af813",
              "IPY_MODEL_c501c33c1f2f4fbb97482bef7cb6c193"
            ],
            "layout": "IPY_MODEL_6086bfa489b941678c05af97a39bd66c"
          }
        },
        "10606dfc988243c79848598af14f1178": {
          "model_module": "@jupyter-widgets/controls",
          "model_name": "HTMLModel",
          "model_module_version": "1.5.0",
          "state": {
            "_dom_classes": [],
            "_model_module": "@jupyter-widgets/controls",
            "_model_module_version": "1.5.0",
            "_model_name": "HTMLModel",
            "_view_count": null,
            "_view_module": "@jupyter-widgets/controls",
            "_view_module_version": "1.5.0",
            "_view_name": "HTMLView",
            "description": "",
            "description_tooltip": null,
            "layout": "IPY_MODEL_dcd1af3f989b4bcdaaded50e99acaf48",
            "placeholder": "​",
            "style": "IPY_MODEL_93a3b566299f40eaa059785e14df3cea",
            "value": "100%"
          }
        },
        "40049b2252b949e4a2a3fc3f597af813": {
          "model_module": "@jupyter-widgets/controls",
          "model_name": "FloatProgressModel",
          "model_module_version": "1.5.0",
          "state": {
            "_dom_classes": [],
            "_model_module": "@jupyter-widgets/controls",
            "_model_module_version": "1.5.0",
            "_model_name": "FloatProgressModel",
            "_view_count": null,
            "_view_module": "@jupyter-widgets/controls",
            "_view_module_version": "1.5.0",
            "_view_name": "ProgressView",
            "bar_style": "success",
            "description": "",
            "description_tooltip": null,
            "layout": "IPY_MODEL_b1436bcd0a054aee98701dd6118f8ab1",
            "max": 34602,
            "min": 0,
            "orientation": "horizontal",
            "style": "IPY_MODEL_74c29190eee24a868116859e3f50dff5",
            "value": 34602
          }
        },
        "c501c33c1f2f4fbb97482bef7cb6c193": {
          "model_module": "@jupyter-widgets/controls",
          "model_name": "HTMLModel",
          "model_module_version": "1.5.0",
          "state": {
            "_dom_classes": [],
            "_model_module": "@jupyter-widgets/controls",
            "_model_module_version": "1.5.0",
            "_model_name": "HTMLModel",
            "_view_count": null,
            "_view_module": "@jupyter-widgets/controls",
            "_view_module_version": "1.5.0",
            "_view_name": "HTMLView",
            "description": "",
            "description_tooltip": null,
            "layout": "IPY_MODEL_630b12c2543e4cb78f86a92ffd820f07",
            "placeholder": "​",
            "style": "IPY_MODEL_9dd84f5d0c3247529622a4a37b04d4ab",
            "value": " 34602/34602 [02:10&lt;00:00, 8709.83it/s]"
          }
        },
        "6086bfa489b941678c05af97a39bd66c": {
          "model_module": "@jupyter-widgets/base",
          "model_name": "LayoutModel",
          "model_module_version": "1.2.0",
          "state": {
            "_model_module": "@jupyter-widgets/base",
            "_model_module_version": "1.2.0",
            "_model_name": "LayoutModel",
            "_view_count": null,
            "_view_module": "@jupyter-widgets/base",
            "_view_module_version": "1.2.0",
            "_view_name": "LayoutView",
            "align_content": null,
            "align_items": null,
            "align_self": null,
            "border": null,
            "bottom": null,
            "display": null,
            "flex": null,
            "flex_flow": null,
            "grid_area": null,
            "grid_auto_columns": null,
            "grid_auto_flow": null,
            "grid_auto_rows": null,
            "grid_column": null,
            "grid_gap": null,
            "grid_row": null,
            "grid_template_areas": null,
            "grid_template_columns": null,
            "grid_template_rows": null,
            "height": null,
            "justify_content": null,
            "justify_items": null,
            "left": null,
            "margin": null,
            "max_height": null,
            "max_width": null,
            "min_height": null,
            "min_width": null,
            "object_fit": null,
            "object_position": null,
            "order": null,
            "overflow": null,
            "overflow_x": null,
            "overflow_y": null,
            "padding": null,
            "right": null,
            "top": null,
            "visibility": null,
            "width": null
          }
        },
        "dcd1af3f989b4bcdaaded50e99acaf48": {
          "model_module": "@jupyter-widgets/base",
          "model_name": "LayoutModel",
          "model_module_version": "1.2.0",
          "state": {
            "_model_module": "@jupyter-widgets/base",
            "_model_module_version": "1.2.0",
            "_model_name": "LayoutModel",
            "_view_count": null,
            "_view_module": "@jupyter-widgets/base",
            "_view_module_version": "1.2.0",
            "_view_name": "LayoutView",
            "align_content": null,
            "align_items": null,
            "align_self": null,
            "border": null,
            "bottom": null,
            "display": null,
            "flex": null,
            "flex_flow": null,
            "grid_area": null,
            "grid_auto_columns": null,
            "grid_auto_flow": null,
            "grid_auto_rows": null,
            "grid_column": null,
            "grid_gap": null,
            "grid_row": null,
            "grid_template_areas": null,
            "grid_template_columns": null,
            "grid_template_rows": null,
            "height": null,
            "justify_content": null,
            "justify_items": null,
            "left": null,
            "margin": null,
            "max_height": null,
            "max_width": null,
            "min_height": null,
            "min_width": null,
            "object_fit": null,
            "object_position": null,
            "order": null,
            "overflow": null,
            "overflow_x": null,
            "overflow_y": null,
            "padding": null,
            "right": null,
            "top": null,
            "visibility": null,
            "width": null
          }
        },
        "93a3b566299f40eaa059785e14df3cea": {
          "model_module": "@jupyter-widgets/controls",
          "model_name": "DescriptionStyleModel",
          "model_module_version": "1.5.0",
          "state": {
            "_model_module": "@jupyter-widgets/controls",
            "_model_module_version": "1.5.0",
            "_model_name": "DescriptionStyleModel",
            "_view_count": null,
            "_view_module": "@jupyter-widgets/base",
            "_view_module_version": "1.2.0",
            "_view_name": "StyleView",
            "description_width": ""
          }
        },
        "b1436bcd0a054aee98701dd6118f8ab1": {
          "model_module": "@jupyter-widgets/base",
          "model_name": "LayoutModel",
          "model_module_version": "1.2.0",
          "state": {
            "_model_module": "@jupyter-widgets/base",
            "_model_module_version": "1.2.0",
            "_model_name": "LayoutModel",
            "_view_count": null,
            "_view_module": "@jupyter-widgets/base",
            "_view_module_version": "1.2.0",
            "_view_name": "LayoutView",
            "align_content": null,
            "align_items": null,
            "align_self": null,
            "border": null,
            "bottom": null,
            "display": null,
            "flex": null,
            "flex_flow": null,
            "grid_area": null,
            "grid_auto_columns": null,
            "grid_auto_flow": null,
            "grid_auto_rows": null,
            "grid_column": null,
            "grid_gap": null,
            "grid_row": null,
            "grid_template_areas": null,
            "grid_template_columns": null,
            "grid_template_rows": null,
            "height": null,
            "justify_content": null,
            "justify_items": null,
            "left": null,
            "margin": null,
            "max_height": null,
            "max_width": null,
            "min_height": null,
            "min_width": null,
            "object_fit": null,
            "object_position": null,
            "order": null,
            "overflow": null,
            "overflow_x": null,
            "overflow_y": null,
            "padding": null,
            "right": null,
            "top": null,
            "visibility": null,
            "width": null
          }
        },
        "74c29190eee24a868116859e3f50dff5": {
          "model_module": "@jupyter-widgets/controls",
          "model_name": "ProgressStyleModel",
          "model_module_version": "1.5.0",
          "state": {
            "_model_module": "@jupyter-widgets/controls",
            "_model_module_version": "1.5.0",
            "_model_name": "ProgressStyleModel",
            "_view_count": null,
            "_view_module": "@jupyter-widgets/base",
            "_view_module_version": "1.2.0",
            "_view_name": "StyleView",
            "bar_color": null,
            "description_width": ""
          }
        },
        "630b12c2543e4cb78f86a92ffd820f07": {
          "model_module": "@jupyter-widgets/base",
          "model_name": "LayoutModel",
          "model_module_version": "1.2.0",
          "state": {
            "_model_module": "@jupyter-widgets/base",
            "_model_module_version": "1.2.0",
            "_model_name": "LayoutModel",
            "_view_count": null,
            "_view_module": "@jupyter-widgets/base",
            "_view_module_version": "1.2.0",
            "_view_name": "LayoutView",
            "align_content": null,
            "align_items": null,
            "align_self": null,
            "border": null,
            "bottom": null,
            "display": null,
            "flex": null,
            "flex_flow": null,
            "grid_area": null,
            "grid_auto_columns": null,
            "grid_auto_flow": null,
            "grid_auto_rows": null,
            "grid_column": null,
            "grid_gap": null,
            "grid_row": null,
            "grid_template_areas": null,
            "grid_template_columns": null,
            "grid_template_rows": null,
            "height": null,
            "justify_content": null,
            "justify_items": null,
            "left": null,
            "margin": null,
            "max_height": null,
            "max_width": null,
            "min_height": null,
            "min_width": null,
            "object_fit": null,
            "object_position": null,
            "order": null,
            "overflow": null,
            "overflow_x": null,
            "overflow_y": null,
            "padding": null,
            "right": null,
            "top": null,
            "visibility": null,
            "width": null
          }
        },
        "9dd84f5d0c3247529622a4a37b04d4ab": {
          "model_module": "@jupyter-widgets/controls",
          "model_name": "DescriptionStyleModel",
          "model_module_version": "1.5.0",
          "state": {
            "_model_module": "@jupyter-widgets/controls",
            "_model_module_version": "1.5.0",
            "_model_name": "DescriptionStyleModel",
            "_view_count": null,
            "_view_module": "@jupyter-widgets/base",
            "_view_module_version": "1.2.0",
            "_view_name": "StyleView",
            "description_width": ""
          }
        },
        "728f8183995f46359e97310a2e4d2541": {
          "model_module": "@jupyter-widgets/controls",
          "model_name": "HBoxModel",
          "model_module_version": "1.5.0",
          "state": {
            "_dom_classes": [],
            "_model_module": "@jupyter-widgets/controls",
            "_model_module_version": "1.5.0",
            "_model_name": "HBoxModel",
            "_view_count": null,
            "_view_module": "@jupyter-widgets/controls",
            "_view_module_version": "1.5.0",
            "_view_name": "HBoxView",
            "box_style": "",
            "children": [
              "IPY_MODEL_454a04f0c1304ce69493611e53d4ac1e",
              "IPY_MODEL_5fe0f90013c5429eaf74c0e495dafac1",
              "IPY_MODEL_e1467497b2824c9d8772fd3897757515"
            ],
            "layout": "IPY_MODEL_44c702606daa4ed796db5e5920ea96e8"
          }
        },
        "454a04f0c1304ce69493611e53d4ac1e": {
          "model_module": "@jupyter-widgets/controls",
          "model_name": "HTMLModel",
          "model_module_version": "1.5.0",
          "state": {
            "_dom_classes": [],
            "_model_module": "@jupyter-widgets/controls",
            "_model_module_version": "1.5.0",
            "_model_name": "HTMLModel",
            "_view_count": null,
            "_view_module": "@jupyter-widgets/controls",
            "_view_module_version": "1.5.0",
            "_view_name": "HTMLView",
            "description": "",
            "description_tooltip": null,
            "layout": "IPY_MODEL_3303531f18b240e58d446f2679548d21",
            "placeholder": "​",
            "style": "IPY_MODEL_9c5c86936ade44aabc89e8a4fede45bd",
            "value": "100%"
          }
        },
        "5fe0f90013c5429eaf74c0e495dafac1": {
          "model_module": "@jupyter-widgets/controls",
          "model_name": "FloatProgressModel",
          "model_module_version": "1.5.0",
          "state": {
            "_dom_classes": [],
            "_model_module": "@jupyter-widgets/controls",
            "_model_module_version": "1.5.0",
            "_model_name": "FloatProgressModel",
            "_view_count": null,
            "_view_module": "@jupyter-widgets/controls",
            "_view_module_version": "1.5.0",
            "_view_name": "ProgressView",
            "bar_style": "success",
            "description": "",
            "description_tooltip": null,
            "layout": "IPY_MODEL_44b2f8bbedb84c6b995267ff1fb0a08a",
            "max": 5000,
            "min": 0,
            "orientation": "horizontal",
            "style": "IPY_MODEL_89bbe3903a554e58af4b798b62f4054c",
            "value": 5000
          }
        },
        "e1467497b2824c9d8772fd3897757515": {
          "model_module": "@jupyter-widgets/controls",
          "model_name": "HTMLModel",
          "model_module_version": "1.5.0",
          "state": {
            "_dom_classes": [],
            "_model_module": "@jupyter-widgets/controls",
            "_model_module_version": "1.5.0",
            "_model_name": "HTMLModel",
            "_view_count": null,
            "_view_module": "@jupyter-widgets/controls",
            "_view_module_version": "1.5.0",
            "_view_name": "HTMLView",
            "description": "",
            "description_tooltip": null,
            "layout": "IPY_MODEL_c3ed019c27314679bda2cf870f7185d5",
            "placeholder": "​",
            "style": "IPY_MODEL_1f92808b95104f56b27665a2411dda3f",
            "value": " 5000/5000 [00:00&lt;00:00, 6692.34it/s]"
          }
        },
        "44c702606daa4ed796db5e5920ea96e8": {
          "model_module": "@jupyter-widgets/base",
          "model_name": "LayoutModel",
          "model_module_version": "1.2.0",
          "state": {
            "_model_module": "@jupyter-widgets/base",
            "_model_module_version": "1.2.0",
            "_model_name": "LayoutModel",
            "_view_count": null,
            "_view_module": "@jupyter-widgets/base",
            "_view_module_version": "1.2.0",
            "_view_name": "LayoutView",
            "align_content": null,
            "align_items": null,
            "align_self": null,
            "border": null,
            "bottom": null,
            "display": null,
            "flex": null,
            "flex_flow": null,
            "grid_area": null,
            "grid_auto_columns": null,
            "grid_auto_flow": null,
            "grid_auto_rows": null,
            "grid_column": null,
            "grid_gap": null,
            "grid_row": null,
            "grid_template_areas": null,
            "grid_template_columns": null,
            "grid_template_rows": null,
            "height": null,
            "justify_content": null,
            "justify_items": null,
            "left": null,
            "margin": null,
            "max_height": null,
            "max_width": null,
            "min_height": null,
            "min_width": null,
            "object_fit": null,
            "object_position": null,
            "order": null,
            "overflow": null,
            "overflow_x": null,
            "overflow_y": null,
            "padding": null,
            "right": null,
            "top": null,
            "visibility": null,
            "width": null
          }
        },
        "3303531f18b240e58d446f2679548d21": {
          "model_module": "@jupyter-widgets/base",
          "model_name": "LayoutModel",
          "model_module_version": "1.2.0",
          "state": {
            "_model_module": "@jupyter-widgets/base",
            "_model_module_version": "1.2.0",
            "_model_name": "LayoutModel",
            "_view_count": null,
            "_view_module": "@jupyter-widgets/base",
            "_view_module_version": "1.2.0",
            "_view_name": "LayoutView",
            "align_content": null,
            "align_items": null,
            "align_self": null,
            "border": null,
            "bottom": null,
            "display": null,
            "flex": null,
            "flex_flow": null,
            "grid_area": null,
            "grid_auto_columns": null,
            "grid_auto_flow": null,
            "grid_auto_rows": null,
            "grid_column": null,
            "grid_gap": null,
            "grid_row": null,
            "grid_template_areas": null,
            "grid_template_columns": null,
            "grid_template_rows": null,
            "height": null,
            "justify_content": null,
            "justify_items": null,
            "left": null,
            "margin": null,
            "max_height": null,
            "max_width": null,
            "min_height": null,
            "min_width": null,
            "object_fit": null,
            "object_position": null,
            "order": null,
            "overflow": null,
            "overflow_x": null,
            "overflow_y": null,
            "padding": null,
            "right": null,
            "top": null,
            "visibility": null,
            "width": null
          }
        },
        "9c5c86936ade44aabc89e8a4fede45bd": {
          "model_module": "@jupyter-widgets/controls",
          "model_name": "DescriptionStyleModel",
          "model_module_version": "1.5.0",
          "state": {
            "_model_module": "@jupyter-widgets/controls",
            "_model_module_version": "1.5.0",
            "_model_name": "DescriptionStyleModel",
            "_view_count": null,
            "_view_module": "@jupyter-widgets/base",
            "_view_module_version": "1.2.0",
            "_view_name": "StyleView",
            "description_width": ""
          }
        },
        "44b2f8bbedb84c6b995267ff1fb0a08a": {
          "model_module": "@jupyter-widgets/base",
          "model_name": "LayoutModel",
          "model_module_version": "1.2.0",
          "state": {
            "_model_module": "@jupyter-widgets/base",
            "_model_module_version": "1.2.0",
            "_model_name": "LayoutModel",
            "_view_count": null,
            "_view_module": "@jupyter-widgets/base",
            "_view_module_version": "1.2.0",
            "_view_name": "LayoutView",
            "align_content": null,
            "align_items": null,
            "align_self": null,
            "border": null,
            "bottom": null,
            "display": null,
            "flex": null,
            "flex_flow": null,
            "grid_area": null,
            "grid_auto_columns": null,
            "grid_auto_flow": null,
            "grid_auto_rows": null,
            "grid_column": null,
            "grid_gap": null,
            "grid_row": null,
            "grid_template_areas": null,
            "grid_template_columns": null,
            "grid_template_rows": null,
            "height": null,
            "justify_content": null,
            "justify_items": null,
            "left": null,
            "margin": null,
            "max_height": null,
            "max_width": null,
            "min_height": null,
            "min_width": null,
            "object_fit": null,
            "object_position": null,
            "order": null,
            "overflow": null,
            "overflow_x": null,
            "overflow_y": null,
            "padding": null,
            "right": null,
            "top": null,
            "visibility": null,
            "width": null
          }
        },
        "89bbe3903a554e58af4b798b62f4054c": {
          "model_module": "@jupyter-widgets/controls",
          "model_name": "ProgressStyleModel",
          "model_module_version": "1.5.0",
          "state": {
            "_model_module": "@jupyter-widgets/controls",
            "_model_module_version": "1.5.0",
            "_model_name": "ProgressStyleModel",
            "_view_count": null,
            "_view_module": "@jupyter-widgets/base",
            "_view_module_version": "1.2.0",
            "_view_name": "StyleView",
            "bar_color": null,
            "description_width": ""
          }
        },
        "c3ed019c27314679bda2cf870f7185d5": {
          "model_module": "@jupyter-widgets/base",
          "model_name": "LayoutModel",
          "model_module_version": "1.2.0",
          "state": {
            "_model_module": "@jupyter-widgets/base",
            "_model_module_version": "1.2.0",
            "_model_name": "LayoutModel",
            "_view_count": null,
            "_view_module": "@jupyter-widgets/base",
            "_view_module_version": "1.2.0",
            "_view_name": "LayoutView",
            "align_content": null,
            "align_items": null,
            "align_self": null,
            "border": null,
            "bottom": null,
            "display": null,
            "flex": null,
            "flex_flow": null,
            "grid_area": null,
            "grid_auto_columns": null,
            "grid_auto_flow": null,
            "grid_auto_rows": null,
            "grid_column": null,
            "grid_gap": null,
            "grid_row": null,
            "grid_template_areas": null,
            "grid_template_columns": null,
            "grid_template_rows": null,
            "height": null,
            "justify_content": null,
            "justify_items": null,
            "left": null,
            "margin": null,
            "max_height": null,
            "max_width": null,
            "min_height": null,
            "min_width": null,
            "object_fit": null,
            "object_position": null,
            "order": null,
            "overflow": null,
            "overflow_x": null,
            "overflow_y": null,
            "padding": null,
            "right": null,
            "top": null,
            "visibility": null,
            "width": null
          }
        },
        "1f92808b95104f56b27665a2411dda3f": {
          "model_module": "@jupyter-widgets/controls",
          "model_name": "DescriptionStyleModel",
          "model_module_version": "1.5.0",
          "state": {
            "_model_module": "@jupyter-widgets/controls",
            "_model_module_version": "1.5.0",
            "_model_name": "DescriptionStyleModel",
            "_view_count": null,
            "_view_module": "@jupyter-widgets/base",
            "_view_module_version": "1.2.0",
            "_view_name": "StyleView",
            "description_width": ""
          }
        },
        "64f5b8438dd44f5285d47d50253a2489": {
          "model_module": "@jupyter-widgets/controls",
          "model_name": "HBoxModel",
          "model_module_version": "1.5.0",
          "state": {
            "_dom_classes": [],
            "_model_module": "@jupyter-widgets/controls",
            "_model_module_version": "1.5.0",
            "_model_name": "HBoxModel",
            "_view_count": null,
            "_view_module": "@jupyter-widgets/controls",
            "_view_module_version": "1.5.0",
            "_view_name": "HBoxView",
            "box_style": "",
            "children": [
              "IPY_MODEL_b03f6e026d964b1ab4a7c9c93d470205",
              "IPY_MODEL_664469246c644afe857e326af254b1a1",
              "IPY_MODEL_f367121c172b4b8faeeb3118104b4525"
            ],
            "layout": "IPY_MODEL_17dc88dadbfb45629819732dd33d6462"
          }
        },
        "b03f6e026d964b1ab4a7c9c93d470205": {
          "model_module": "@jupyter-widgets/controls",
          "model_name": "HTMLModel",
          "model_module_version": "1.5.0",
          "state": {
            "_dom_classes": [],
            "_model_module": "@jupyter-widgets/controls",
            "_model_module_version": "1.5.0",
            "_model_name": "HTMLModel",
            "_view_count": null,
            "_view_module": "@jupyter-widgets/controls",
            "_view_module_version": "1.5.0",
            "_view_name": "HTMLView",
            "description": "",
            "description_tooltip": null,
            "layout": "IPY_MODEL_cb1c3c3d851b456d949eb55dd6136a59",
            "placeholder": "​",
            "style": "IPY_MODEL_0140dfab066b4b3e94fd5f2dccfd70ef",
            "value": "100%"
          }
        },
        "664469246c644afe857e326af254b1a1": {
          "model_module": "@jupyter-widgets/controls",
          "model_name": "FloatProgressModel",
          "model_module_version": "1.5.0",
          "state": {
            "_dom_classes": [],
            "_model_module": "@jupyter-widgets/controls",
            "_model_module_version": "1.5.0",
            "_model_name": "FloatProgressModel",
            "_view_count": null,
            "_view_module": "@jupyter-widgets/controls",
            "_view_module_version": "1.5.0",
            "_view_name": "ProgressView",
            "bar_style": "success",
            "description": "",
            "description_tooltip": null,
            "layout": "IPY_MODEL_20de19b1fe54493082d7a06f0f1576cd",
            "max": 27068,
            "min": 0,
            "orientation": "horizontal",
            "style": "IPY_MODEL_56cf4490bed24cc49e28a47697f869e7",
            "value": 27068
          }
        },
        "f367121c172b4b8faeeb3118104b4525": {
          "model_module": "@jupyter-widgets/controls",
          "model_name": "HTMLModel",
          "model_module_version": "1.5.0",
          "state": {
            "_dom_classes": [],
            "_model_module": "@jupyter-widgets/controls",
            "_model_module_version": "1.5.0",
            "_model_name": "HTMLModel",
            "_view_count": null,
            "_view_module": "@jupyter-widgets/controls",
            "_view_module_version": "1.5.0",
            "_view_name": "HTMLView",
            "description": "",
            "description_tooltip": null,
            "layout": "IPY_MODEL_cb7ff159221b404d8cab11acf5854c1b",
            "placeholder": "​",
            "style": "IPY_MODEL_374a76a364534a0eb4e9802c78ef2fe4",
            "value": " 27068/27068 [00:00&lt;00:00, 76467.68it/s]"
          }
        },
        "17dc88dadbfb45629819732dd33d6462": {
          "model_module": "@jupyter-widgets/base",
          "model_name": "LayoutModel",
          "model_module_version": "1.2.0",
          "state": {
            "_model_module": "@jupyter-widgets/base",
            "_model_module_version": "1.2.0",
            "_model_name": "LayoutModel",
            "_view_count": null,
            "_view_module": "@jupyter-widgets/base",
            "_view_module_version": "1.2.0",
            "_view_name": "LayoutView",
            "align_content": null,
            "align_items": null,
            "align_self": null,
            "border": null,
            "bottom": null,
            "display": null,
            "flex": null,
            "flex_flow": null,
            "grid_area": null,
            "grid_auto_columns": null,
            "grid_auto_flow": null,
            "grid_auto_rows": null,
            "grid_column": null,
            "grid_gap": null,
            "grid_row": null,
            "grid_template_areas": null,
            "grid_template_columns": null,
            "grid_template_rows": null,
            "height": null,
            "justify_content": null,
            "justify_items": null,
            "left": null,
            "margin": null,
            "max_height": null,
            "max_width": null,
            "min_height": null,
            "min_width": null,
            "object_fit": null,
            "object_position": null,
            "order": null,
            "overflow": null,
            "overflow_x": null,
            "overflow_y": null,
            "padding": null,
            "right": null,
            "top": null,
            "visibility": null,
            "width": null
          }
        },
        "cb1c3c3d851b456d949eb55dd6136a59": {
          "model_module": "@jupyter-widgets/base",
          "model_name": "LayoutModel",
          "model_module_version": "1.2.0",
          "state": {
            "_model_module": "@jupyter-widgets/base",
            "_model_module_version": "1.2.0",
            "_model_name": "LayoutModel",
            "_view_count": null,
            "_view_module": "@jupyter-widgets/base",
            "_view_module_version": "1.2.0",
            "_view_name": "LayoutView",
            "align_content": null,
            "align_items": null,
            "align_self": null,
            "border": null,
            "bottom": null,
            "display": null,
            "flex": null,
            "flex_flow": null,
            "grid_area": null,
            "grid_auto_columns": null,
            "grid_auto_flow": null,
            "grid_auto_rows": null,
            "grid_column": null,
            "grid_gap": null,
            "grid_row": null,
            "grid_template_areas": null,
            "grid_template_columns": null,
            "grid_template_rows": null,
            "height": null,
            "justify_content": null,
            "justify_items": null,
            "left": null,
            "margin": null,
            "max_height": null,
            "max_width": null,
            "min_height": null,
            "min_width": null,
            "object_fit": null,
            "object_position": null,
            "order": null,
            "overflow": null,
            "overflow_x": null,
            "overflow_y": null,
            "padding": null,
            "right": null,
            "top": null,
            "visibility": null,
            "width": null
          }
        },
        "0140dfab066b4b3e94fd5f2dccfd70ef": {
          "model_module": "@jupyter-widgets/controls",
          "model_name": "DescriptionStyleModel",
          "model_module_version": "1.5.0",
          "state": {
            "_model_module": "@jupyter-widgets/controls",
            "_model_module_version": "1.5.0",
            "_model_name": "DescriptionStyleModel",
            "_view_count": null,
            "_view_module": "@jupyter-widgets/base",
            "_view_module_version": "1.2.0",
            "_view_name": "StyleView",
            "description_width": ""
          }
        },
        "20de19b1fe54493082d7a06f0f1576cd": {
          "model_module": "@jupyter-widgets/base",
          "model_name": "LayoutModel",
          "model_module_version": "1.2.0",
          "state": {
            "_model_module": "@jupyter-widgets/base",
            "_model_module_version": "1.2.0",
            "_model_name": "LayoutModel",
            "_view_count": null,
            "_view_module": "@jupyter-widgets/base",
            "_view_module_version": "1.2.0",
            "_view_name": "LayoutView",
            "align_content": null,
            "align_items": null,
            "align_self": null,
            "border": null,
            "bottom": null,
            "display": null,
            "flex": null,
            "flex_flow": null,
            "grid_area": null,
            "grid_auto_columns": null,
            "grid_auto_flow": null,
            "grid_auto_rows": null,
            "grid_column": null,
            "grid_gap": null,
            "grid_row": null,
            "grid_template_areas": null,
            "grid_template_columns": null,
            "grid_template_rows": null,
            "height": null,
            "justify_content": null,
            "justify_items": null,
            "left": null,
            "margin": null,
            "max_height": null,
            "max_width": null,
            "min_height": null,
            "min_width": null,
            "object_fit": null,
            "object_position": null,
            "order": null,
            "overflow": null,
            "overflow_x": null,
            "overflow_y": null,
            "padding": null,
            "right": null,
            "top": null,
            "visibility": null,
            "width": null
          }
        },
        "56cf4490bed24cc49e28a47697f869e7": {
          "model_module": "@jupyter-widgets/controls",
          "model_name": "ProgressStyleModel",
          "model_module_version": "1.5.0",
          "state": {
            "_model_module": "@jupyter-widgets/controls",
            "_model_module_version": "1.5.0",
            "_model_name": "ProgressStyleModel",
            "_view_count": null,
            "_view_module": "@jupyter-widgets/base",
            "_view_module_version": "1.2.0",
            "_view_name": "StyleView",
            "bar_color": null,
            "description_width": ""
          }
        },
        "cb7ff159221b404d8cab11acf5854c1b": {
          "model_module": "@jupyter-widgets/base",
          "model_name": "LayoutModel",
          "model_module_version": "1.2.0",
          "state": {
            "_model_module": "@jupyter-widgets/base",
            "_model_module_version": "1.2.0",
            "_model_name": "LayoutModel",
            "_view_count": null,
            "_view_module": "@jupyter-widgets/base",
            "_view_module_version": "1.2.0",
            "_view_name": "LayoutView",
            "align_content": null,
            "align_items": null,
            "align_self": null,
            "border": null,
            "bottom": null,
            "display": null,
            "flex": null,
            "flex_flow": null,
            "grid_area": null,
            "grid_auto_columns": null,
            "grid_auto_flow": null,
            "grid_auto_rows": null,
            "grid_column": null,
            "grid_gap": null,
            "grid_row": null,
            "grid_template_areas": null,
            "grid_template_columns": null,
            "grid_template_rows": null,
            "height": null,
            "justify_content": null,
            "justify_items": null,
            "left": null,
            "margin": null,
            "max_height": null,
            "max_width": null,
            "min_height": null,
            "min_width": null,
            "object_fit": null,
            "object_position": null,
            "order": null,
            "overflow": null,
            "overflow_x": null,
            "overflow_y": null,
            "padding": null,
            "right": null,
            "top": null,
            "visibility": null,
            "width": null
          }
        },
        "374a76a364534a0eb4e9802c78ef2fe4": {
          "model_module": "@jupyter-widgets/controls",
          "model_name": "DescriptionStyleModel",
          "model_module_version": "1.5.0",
          "state": {
            "_model_module": "@jupyter-widgets/controls",
            "_model_module_version": "1.5.0",
            "_model_name": "DescriptionStyleModel",
            "_view_count": null,
            "_view_module": "@jupyter-widgets/base",
            "_view_module_version": "1.2.0",
            "_view_name": "StyleView",
            "description_width": ""
          }
        },
        "c7b9af354b954d61be01902a3d94ea41": {
          "model_module": "@jupyter-widgets/controls",
          "model_name": "HBoxModel",
          "model_module_version": "1.5.0",
          "state": {
            "_dom_classes": [],
            "_model_module": "@jupyter-widgets/controls",
            "_model_module_version": "1.5.0",
            "_model_name": "HBoxModel",
            "_view_count": null,
            "_view_module": "@jupyter-widgets/controls",
            "_view_module_version": "1.5.0",
            "_view_name": "HBoxView",
            "box_style": "",
            "children": [
              "IPY_MODEL_38434a2acc7b4c83bf13317e60cd043b",
              "IPY_MODEL_c01bee7f283f419aa5c3a2c454ea0dc5",
              "IPY_MODEL_238cba62343b451ebeaa9e6e96b638d7"
            ],
            "layout": "IPY_MODEL_012450da6b5c41c48c80a97408ef3ac7"
          }
        },
        "38434a2acc7b4c83bf13317e60cd043b": {
          "model_module": "@jupyter-widgets/controls",
          "model_name": "HTMLModel",
          "model_module_version": "1.5.0",
          "state": {
            "_dom_classes": [],
            "_model_module": "@jupyter-widgets/controls",
            "_model_module_version": "1.5.0",
            "_model_name": "HTMLModel",
            "_view_count": null,
            "_view_module": "@jupyter-widgets/controls",
            "_view_module_version": "1.5.0",
            "_view_name": "HTMLView",
            "description": "",
            "description_tooltip": null,
            "layout": "IPY_MODEL_ae39654af6fc4cc28b758b29cdf1922f",
            "placeholder": "​",
            "style": "IPY_MODEL_08e38b8cc15c4c75863447bbae7dab90",
            "value": "100%"
          }
        },
        "c01bee7f283f419aa5c3a2c454ea0dc5": {
          "model_module": "@jupyter-widgets/controls",
          "model_name": "FloatProgressModel",
          "model_module_version": "1.5.0",
          "state": {
            "_dom_classes": [],
            "_model_module": "@jupyter-widgets/controls",
            "_model_module_version": "1.5.0",
            "_model_name": "FloatProgressModel",
            "_view_count": null,
            "_view_module": "@jupyter-widgets/controls",
            "_view_module_version": "1.5.0",
            "_view_name": "ProgressView",
            "bar_style": "success",
            "description": "",
            "description_tooltip": null,
            "layout": "IPY_MODEL_d3e07b55695f4888b779341932272725",
            "max": 3892,
            "min": 0,
            "orientation": "horizontal",
            "style": "IPY_MODEL_404ec9becc3f450da4eb6e941815f541",
            "value": 3892
          }
        },
        "238cba62343b451ebeaa9e6e96b638d7": {
          "model_module": "@jupyter-widgets/controls",
          "model_name": "HTMLModel",
          "model_module_version": "1.5.0",
          "state": {
            "_dom_classes": [],
            "_model_module": "@jupyter-widgets/controls",
            "_model_module_version": "1.5.0",
            "_model_name": "HTMLModel",
            "_view_count": null,
            "_view_module": "@jupyter-widgets/controls",
            "_view_module_version": "1.5.0",
            "_view_name": "HTMLView",
            "description": "",
            "description_tooltip": null,
            "layout": "IPY_MODEL_e29d0c5e36214f8584479d61ba1c0941",
            "placeholder": "​",
            "style": "IPY_MODEL_24a0499061b04ca68684651d61634cc5",
            "value": " 3892/3892 [00:00&lt;00:00, 53091.76it/s]"
          }
        },
        "012450da6b5c41c48c80a97408ef3ac7": {
          "model_module": "@jupyter-widgets/base",
          "model_name": "LayoutModel",
          "model_module_version": "1.2.0",
          "state": {
            "_model_module": "@jupyter-widgets/base",
            "_model_module_version": "1.2.0",
            "_model_name": "LayoutModel",
            "_view_count": null,
            "_view_module": "@jupyter-widgets/base",
            "_view_module_version": "1.2.0",
            "_view_name": "LayoutView",
            "align_content": null,
            "align_items": null,
            "align_self": null,
            "border": null,
            "bottom": null,
            "display": null,
            "flex": null,
            "flex_flow": null,
            "grid_area": null,
            "grid_auto_columns": null,
            "grid_auto_flow": null,
            "grid_auto_rows": null,
            "grid_column": null,
            "grid_gap": null,
            "grid_row": null,
            "grid_template_areas": null,
            "grid_template_columns": null,
            "grid_template_rows": null,
            "height": null,
            "justify_content": null,
            "justify_items": null,
            "left": null,
            "margin": null,
            "max_height": null,
            "max_width": null,
            "min_height": null,
            "min_width": null,
            "object_fit": null,
            "object_position": null,
            "order": null,
            "overflow": null,
            "overflow_x": null,
            "overflow_y": null,
            "padding": null,
            "right": null,
            "top": null,
            "visibility": null,
            "width": null
          }
        },
        "ae39654af6fc4cc28b758b29cdf1922f": {
          "model_module": "@jupyter-widgets/base",
          "model_name": "LayoutModel",
          "model_module_version": "1.2.0",
          "state": {
            "_model_module": "@jupyter-widgets/base",
            "_model_module_version": "1.2.0",
            "_model_name": "LayoutModel",
            "_view_count": null,
            "_view_module": "@jupyter-widgets/base",
            "_view_module_version": "1.2.0",
            "_view_name": "LayoutView",
            "align_content": null,
            "align_items": null,
            "align_self": null,
            "border": null,
            "bottom": null,
            "display": null,
            "flex": null,
            "flex_flow": null,
            "grid_area": null,
            "grid_auto_columns": null,
            "grid_auto_flow": null,
            "grid_auto_rows": null,
            "grid_column": null,
            "grid_gap": null,
            "grid_row": null,
            "grid_template_areas": null,
            "grid_template_columns": null,
            "grid_template_rows": null,
            "height": null,
            "justify_content": null,
            "justify_items": null,
            "left": null,
            "margin": null,
            "max_height": null,
            "max_width": null,
            "min_height": null,
            "min_width": null,
            "object_fit": null,
            "object_position": null,
            "order": null,
            "overflow": null,
            "overflow_x": null,
            "overflow_y": null,
            "padding": null,
            "right": null,
            "top": null,
            "visibility": null,
            "width": null
          }
        },
        "08e38b8cc15c4c75863447bbae7dab90": {
          "model_module": "@jupyter-widgets/controls",
          "model_name": "DescriptionStyleModel",
          "model_module_version": "1.5.0",
          "state": {
            "_model_module": "@jupyter-widgets/controls",
            "_model_module_version": "1.5.0",
            "_model_name": "DescriptionStyleModel",
            "_view_count": null,
            "_view_module": "@jupyter-widgets/base",
            "_view_module_version": "1.2.0",
            "_view_name": "StyleView",
            "description_width": ""
          }
        },
        "d3e07b55695f4888b779341932272725": {
          "model_module": "@jupyter-widgets/base",
          "model_name": "LayoutModel",
          "model_module_version": "1.2.0",
          "state": {
            "_model_module": "@jupyter-widgets/base",
            "_model_module_version": "1.2.0",
            "_model_name": "LayoutModel",
            "_view_count": null,
            "_view_module": "@jupyter-widgets/base",
            "_view_module_version": "1.2.0",
            "_view_name": "LayoutView",
            "align_content": null,
            "align_items": null,
            "align_self": null,
            "border": null,
            "bottom": null,
            "display": null,
            "flex": null,
            "flex_flow": null,
            "grid_area": null,
            "grid_auto_columns": null,
            "grid_auto_flow": null,
            "grid_auto_rows": null,
            "grid_column": null,
            "grid_gap": null,
            "grid_row": null,
            "grid_template_areas": null,
            "grid_template_columns": null,
            "grid_template_rows": null,
            "height": null,
            "justify_content": null,
            "justify_items": null,
            "left": null,
            "margin": null,
            "max_height": null,
            "max_width": null,
            "min_height": null,
            "min_width": null,
            "object_fit": null,
            "object_position": null,
            "order": null,
            "overflow": null,
            "overflow_x": null,
            "overflow_y": null,
            "padding": null,
            "right": null,
            "top": null,
            "visibility": null,
            "width": null
          }
        },
        "404ec9becc3f450da4eb6e941815f541": {
          "model_module": "@jupyter-widgets/controls",
          "model_name": "ProgressStyleModel",
          "model_module_version": "1.5.0",
          "state": {
            "_model_module": "@jupyter-widgets/controls",
            "_model_module_version": "1.5.0",
            "_model_name": "ProgressStyleModel",
            "_view_count": null,
            "_view_module": "@jupyter-widgets/base",
            "_view_module_version": "1.2.0",
            "_view_name": "StyleView",
            "bar_color": null,
            "description_width": ""
          }
        },
        "e29d0c5e36214f8584479d61ba1c0941": {
          "model_module": "@jupyter-widgets/base",
          "model_name": "LayoutModel",
          "model_module_version": "1.2.0",
          "state": {
            "_model_module": "@jupyter-widgets/base",
            "_model_module_version": "1.2.0",
            "_model_name": "LayoutModel",
            "_view_count": null,
            "_view_module": "@jupyter-widgets/base",
            "_view_module_version": "1.2.0",
            "_view_name": "LayoutView",
            "align_content": null,
            "align_items": null,
            "align_self": null,
            "border": null,
            "bottom": null,
            "display": null,
            "flex": null,
            "flex_flow": null,
            "grid_area": null,
            "grid_auto_columns": null,
            "grid_auto_flow": null,
            "grid_auto_rows": null,
            "grid_column": null,
            "grid_gap": null,
            "grid_row": null,
            "grid_template_areas": null,
            "grid_template_columns": null,
            "grid_template_rows": null,
            "height": null,
            "justify_content": null,
            "justify_items": null,
            "left": null,
            "margin": null,
            "max_height": null,
            "max_width": null,
            "min_height": null,
            "min_width": null,
            "object_fit": null,
            "object_position": null,
            "order": null,
            "overflow": null,
            "overflow_x": null,
            "overflow_y": null,
            "padding": null,
            "right": null,
            "top": null,
            "visibility": null,
            "width": null
          }
        },
        "24a0499061b04ca68684651d61634cc5": {
          "model_module": "@jupyter-widgets/controls",
          "model_name": "DescriptionStyleModel",
          "model_module_version": "1.5.0",
          "state": {
            "_model_module": "@jupyter-widgets/controls",
            "_model_module_version": "1.5.0",
            "_model_name": "DescriptionStyleModel",
            "_view_count": null,
            "_view_module": "@jupyter-widgets/base",
            "_view_module_version": "1.2.0",
            "_view_name": "StyleView",
            "description_width": ""
          }
        },
        "db191ce44ab847ba9eadbccf1e640687": {
          "model_module": "@jupyter-widgets/controls",
          "model_name": "HBoxModel",
          "model_module_version": "1.5.0",
          "state": {
            "_dom_classes": [],
            "_model_module": "@jupyter-widgets/controls",
            "_model_module_version": "1.5.0",
            "_model_name": "HBoxModel",
            "_view_count": null,
            "_view_module": "@jupyter-widgets/controls",
            "_view_module_version": "1.5.0",
            "_view_name": "HBoxView",
            "box_style": "",
            "children": [
              "IPY_MODEL_ea45f3ed0a0d4f0d8ce24c5e3a8ff1f5",
              "IPY_MODEL_3094a285c7bf4524bbdb5f4259661214",
              "IPY_MODEL_1a26e98925984f499f4f21d3cbe6ac3a"
            ],
            "layout": "IPY_MODEL_13ac9fd0106447bbbc79ebe5b6e8869a"
          }
        },
        "ea45f3ed0a0d4f0d8ce24c5e3a8ff1f5": {
          "model_module": "@jupyter-widgets/controls",
          "model_name": "HTMLModel",
          "model_module_version": "1.5.0",
          "state": {
            "_dom_classes": [],
            "_model_module": "@jupyter-widgets/controls",
            "_model_module_version": "1.5.0",
            "_model_name": "HTMLModel",
            "_view_count": null,
            "_view_module": "@jupyter-widgets/controls",
            "_view_module_version": "1.5.0",
            "_view_name": "HTMLView",
            "description": "",
            "description_tooltip": null,
            "layout": "IPY_MODEL_fac38fb85850440cb7618a7f405a8651",
            "placeholder": "​",
            "style": "IPY_MODEL_7194e3366d2c4f859d7ade5d846ce7b7",
            "value": "Downloading: 100%"
          }
        },
        "3094a285c7bf4524bbdb5f4259661214": {
          "model_module": "@jupyter-widgets/controls",
          "model_name": "FloatProgressModel",
          "model_module_version": "1.5.0",
          "state": {
            "_dom_classes": [],
            "_model_module": "@jupyter-widgets/controls",
            "_model_module_version": "1.5.0",
            "_model_name": "FloatProgressModel",
            "_view_count": null,
            "_view_module": "@jupyter-widgets/controls",
            "_view_module_version": "1.5.0",
            "_view_name": "ProgressView",
            "bar_style": "success",
            "description": "",
            "description_tooltip": null,
            "layout": "IPY_MODEL_ee18c450eaad41c897a8fc2ce8ff0c8b",
            "max": 791656,
            "min": 0,
            "orientation": "horizontal",
            "style": "IPY_MODEL_ba873cf50bab4aa78f6acc5ed597ffb1",
            "value": 791656
          }
        },
        "1a26e98925984f499f4f21d3cbe6ac3a": {
          "model_module": "@jupyter-widgets/controls",
          "model_name": "HTMLModel",
          "model_module_version": "1.5.0",
          "state": {
            "_dom_classes": [],
            "_model_module": "@jupyter-widgets/controls",
            "_model_module_version": "1.5.0",
            "_model_name": "HTMLModel",
            "_view_count": null,
            "_view_module": "@jupyter-widgets/controls",
            "_view_module_version": "1.5.0",
            "_view_name": "HTMLView",
            "description": "",
            "description_tooltip": null,
            "layout": "IPY_MODEL_b1cdf08183614ebebce39a10e26697b2",
            "placeholder": "​",
            "style": "IPY_MODEL_b63440441cca4d6fa3df7a9bf65aef50",
            "value": " 773k/773k [00:00&lt;00:00, 4.55MB/s]"
          }
        },
        "13ac9fd0106447bbbc79ebe5b6e8869a": {
          "model_module": "@jupyter-widgets/base",
          "model_name": "LayoutModel",
          "model_module_version": "1.2.0",
          "state": {
            "_model_module": "@jupyter-widgets/base",
            "_model_module_version": "1.2.0",
            "_model_name": "LayoutModel",
            "_view_count": null,
            "_view_module": "@jupyter-widgets/base",
            "_view_module_version": "1.2.0",
            "_view_name": "LayoutView",
            "align_content": null,
            "align_items": null,
            "align_self": null,
            "border": null,
            "bottom": null,
            "display": null,
            "flex": null,
            "flex_flow": null,
            "grid_area": null,
            "grid_auto_columns": null,
            "grid_auto_flow": null,
            "grid_auto_rows": null,
            "grid_column": null,
            "grid_gap": null,
            "grid_row": null,
            "grid_template_areas": null,
            "grid_template_columns": null,
            "grid_template_rows": null,
            "height": null,
            "justify_content": null,
            "justify_items": null,
            "left": null,
            "margin": null,
            "max_height": null,
            "max_width": null,
            "min_height": null,
            "min_width": null,
            "object_fit": null,
            "object_position": null,
            "order": null,
            "overflow": null,
            "overflow_x": null,
            "overflow_y": null,
            "padding": null,
            "right": null,
            "top": null,
            "visibility": null,
            "width": null
          }
        },
        "fac38fb85850440cb7618a7f405a8651": {
          "model_module": "@jupyter-widgets/base",
          "model_name": "LayoutModel",
          "model_module_version": "1.2.0",
          "state": {
            "_model_module": "@jupyter-widgets/base",
            "_model_module_version": "1.2.0",
            "_model_name": "LayoutModel",
            "_view_count": null,
            "_view_module": "@jupyter-widgets/base",
            "_view_module_version": "1.2.0",
            "_view_name": "LayoutView",
            "align_content": null,
            "align_items": null,
            "align_self": null,
            "border": null,
            "bottom": null,
            "display": null,
            "flex": null,
            "flex_flow": null,
            "grid_area": null,
            "grid_auto_columns": null,
            "grid_auto_flow": null,
            "grid_auto_rows": null,
            "grid_column": null,
            "grid_gap": null,
            "grid_row": null,
            "grid_template_areas": null,
            "grid_template_columns": null,
            "grid_template_rows": null,
            "height": null,
            "justify_content": null,
            "justify_items": null,
            "left": null,
            "margin": null,
            "max_height": null,
            "max_width": null,
            "min_height": null,
            "min_width": null,
            "object_fit": null,
            "object_position": null,
            "order": null,
            "overflow": null,
            "overflow_x": null,
            "overflow_y": null,
            "padding": null,
            "right": null,
            "top": null,
            "visibility": null,
            "width": null
          }
        },
        "7194e3366d2c4f859d7ade5d846ce7b7": {
          "model_module": "@jupyter-widgets/controls",
          "model_name": "DescriptionStyleModel",
          "model_module_version": "1.5.0",
          "state": {
            "_model_module": "@jupyter-widgets/controls",
            "_model_module_version": "1.5.0",
            "_model_name": "DescriptionStyleModel",
            "_view_count": null,
            "_view_module": "@jupyter-widgets/base",
            "_view_module_version": "1.2.0",
            "_view_name": "StyleView",
            "description_width": ""
          }
        },
        "ee18c450eaad41c897a8fc2ce8ff0c8b": {
          "model_module": "@jupyter-widgets/base",
          "model_name": "LayoutModel",
          "model_module_version": "1.2.0",
          "state": {
            "_model_module": "@jupyter-widgets/base",
            "_model_module_version": "1.2.0",
            "_model_name": "LayoutModel",
            "_view_count": null,
            "_view_module": "@jupyter-widgets/base",
            "_view_module_version": "1.2.0",
            "_view_name": "LayoutView",
            "align_content": null,
            "align_items": null,
            "align_self": null,
            "border": null,
            "bottom": null,
            "display": null,
            "flex": null,
            "flex_flow": null,
            "grid_area": null,
            "grid_auto_columns": null,
            "grid_auto_flow": null,
            "grid_auto_rows": null,
            "grid_column": null,
            "grid_gap": null,
            "grid_row": null,
            "grid_template_areas": null,
            "grid_template_columns": null,
            "grid_template_rows": null,
            "height": null,
            "justify_content": null,
            "justify_items": null,
            "left": null,
            "margin": null,
            "max_height": null,
            "max_width": null,
            "min_height": null,
            "min_width": null,
            "object_fit": null,
            "object_position": null,
            "order": null,
            "overflow": null,
            "overflow_x": null,
            "overflow_y": null,
            "padding": null,
            "right": null,
            "top": null,
            "visibility": null,
            "width": null
          }
        },
        "ba873cf50bab4aa78f6acc5ed597ffb1": {
          "model_module": "@jupyter-widgets/controls",
          "model_name": "ProgressStyleModel",
          "model_module_version": "1.5.0",
          "state": {
            "_model_module": "@jupyter-widgets/controls",
            "_model_module_version": "1.5.0",
            "_model_name": "ProgressStyleModel",
            "_view_count": null,
            "_view_module": "@jupyter-widgets/base",
            "_view_module_version": "1.2.0",
            "_view_name": "StyleView",
            "bar_color": null,
            "description_width": ""
          }
        },
        "b1cdf08183614ebebce39a10e26697b2": {
          "model_module": "@jupyter-widgets/base",
          "model_name": "LayoutModel",
          "model_module_version": "1.2.0",
          "state": {
            "_model_module": "@jupyter-widgets/base",
            "_model_module_version": "1.2.0",
            "_model_name": "LayoutModel",
            "_view_count": null,
            "_view_module": "@jupyter-widgets/base",
            "_view_module_version": "1.2.0",
            "_view_name": "LayoutView",
            "align_content": null,
            "align_items": null,
            "align_self": null,
            "border": null,
            "bottom": null,
            "display": null,
            "flex": null,
            "flex_flow": null,
            "grid_area": null,
            "grid_auto_columns": null,
            "grid_auto_flow": null,
            "grid_auto_rows": null,
            "grid_column": null,
            "grid_gap": null,
            "grid_row": null,
            "grid_template_areas": null,
            "grid_template_columns": null,
            "grid_template_rows": null,
            "height": null,
            "justify_content": null,
            "justify_items": null,
            "left": null,
            "margin": null,
            "max_height": null,
            "max_width": null,
            "min_height": null,
            "min_width": null,
            "object_fit": null,
            "object_position": null,
            "order": null,
            "overflow": null,
            "overflow_x": null,
            "overflow_y": null,
            "padding": null,
            "right": null,
            "top": null,
            "visibility": null,
            "width": null
          }
        },
        "b63440441cca4d6fa3df7a9bf65aef50": {
          "model_module": "@jupyter-widgets/controls",
          "model_name": "DescriptionStyleModel",
          "model_module_version": "1.5.0",
          "state": {
            "_model_module": "@jupyter-widgets/controls",
            "_model_module_version": "1.5.0",
            "_model_name": "DescriptionStyleModel",
            "_view_count": null,
            "_view_module": "@jupyter-widgets/base",
            "_view_module_version": "1.2.0",
            "_view_name": "StyleView",
            "description_width": ""
          }
        },
        "2ffd597a86f749e3891b0bfabf8197fd": {
          "model_module": "@jupyter-widgets/controls",
          "model_name": "HBoxModel",
          "model_module_version": "1.5.0",
          "state": {
            "_dom_classes": [],
            "_model_module": "@jupyter-widgets/controls",
            "_model_module_version": "1.5.0",
            "_model_name": "HBoxModel",
            "_view_count": null,
            "_view_module": "@jupyter-widgets/controls",
            "_view_module_version": "1.5.0",
            "_view_name": "HBoxView",
            "box_style": "",
            "children": [
              "IPY_MODEL_540fb17a6d7e4e34b751ebd12cb2ad8f",
              "IPY_MODEL_32a8fea4520d46f6abb91edcd4c480b9",
              "IPY_MODEL_1bf89855c9f246ef9e89aecba349875b"
            ],
            "layout": "IPY_MODEL_7c6853167a8744f58674d16a48be2d4f"
          }
        },
        "540fb17a6d7e4e34b751ebd12cb2ad8f": {
          "model_module": "@jupyter-widgets/controls",
          "model_name": "HTMLModel",
          "model_module_version": "1.5.0",
          "state": {
            "_dom_classes": [],
            "_model_module": "@jupyter-widgets/controls",
            "_model_module_version": "1.5.0",
            "_model_name": "HTMLModel",
            "_view_count": null,
            "_view_module": "@jupyter-widgets/controls",
            "_view_module_version": "1.5.0",
            "_view_name": "HTMLView",
            "description": "",
            "description_tooltip": null,
            "layout": "IPY_MODEL_751733346997489099976ce0cff5b2be",
            "placeholder": "​",
            "style": "IPY_MODEL_2d114ea72994482bb55fdd0bfc3f6165",
            "value": "Downloading: 100%"
          }
        },
        "32a8fea4520d46f6abb91edcd4c480b9": {
          "model_module": "@jupyter-widgets/controls",
          "model_name": "FloatProgressModel",
          "model_module_version": "1.5.0",
          "state": {
            "_dom_classes": [],
            "_model_module": "@jupyter-widgets/controls",
            "_model_module_version": "1.5.0",
            "_model_name": "FloatProgressModel",
            "_view_count": null,
            "_view_module": "@jupyter-widgets/controls",
            "_view_module_version": "1.5.0",
            "_view_name": "ProgressView",
            "bar_style": "success",
            "description": "",
            "description_tooltip": null,
            "layout": "IPY_MODEL_13368b87722145a795a4ae905d6c731e",
            "max": 1199,
            "min": 0,
            "orientation": "horizontal",
            "style": "IPY_MODEL_45d7791aaff44b02990f5e5e9cf72e4a",
            "value": 1199
          }
        },
        "1bf89855c9f246ef9e89aecba349875b": {
          "model_module": "@jupyter-widgets/controls",
          "model_name": "HTMLModel",
          "model_module_version": "1.5.0",
          "state": {
            "_dom_classes": [],
            "_model_module": "@jupyter-widgets/controls",
            "_model_module_version": "1.5.0",
            "_model_name": "HTMLModel",
            "_view_count": null,
            "_view_module": "@jupyter-widgets/controls",
            "_view_module_version": "1.5.0",
            "_view_name": "HTMLView",
            "description": "",
            "description_tooltip": null,
            "layout": "IPY_MODEL_8c84a065bb29494a9cfe02c21bc0cbb6",
            "placeholder": "​",
            "style": "IPY_MODEL_9b0b0972f9de41cb80b9d50ca82d6bb4",
            "value": " 1.17k/1.17k [00:00&lt;00:00, 36.3kB/s]"
          }
        },
        "7c6853167a8744f58674d16a48be2d4f": {
          "model_module": "@jupyter-widgets/base",
          "model_name": "LayoutModel",
          "model_module_version": "1.2.0",
          "state": {
            "_model_module": "@jupyter-widgets/base",
            "_model_module_version": "1.2.0",
            "_model_name": "LayoutModel",
            "_view_count": null,
            "_view_module": "@jupyter-widgets/base",
            "_view_module_version": "1.2.0",
            "_view_name": "LayoutView",
            "align_content": null,
            "align_items": null,
            "align_self": null,
            "border": null,
            "bottom": null,
            "display": null,
            "flex": null,
            "flex_flow": null,
            "grid_area": null,
            "grid_auto_columns": null,
            "grid_auto_flow": null,
            "grid_auto_rows": null,
            "grid_column": null,
            "grid_gap": null,
            "grid_row": null,
            "grid_template_areas": null,
            "grid_template_columns": null,
            "grid_template_rows": null,
            "height": null,
            "justify_content": null,
            "justify_items": null,
            "left": null,
            "margin": null,
            "max_height": null,
            "max_width": null,
            "min_height": null,
            "min_width": null,
            "object_fit": null,
            "object_position": null,
            "order": null,
            "overflow": null,
            "overflow_x": null,
            "overflow_y": null,
            "padding": null,
            "right": null,
            "top": null,
            "visibility": null,
            "width": null
          }
        },
        "751733346997489099976ce0cff5b2be": {
          "model_module": "@jupyter-widgets/base",
          "model_name": "LayoutModel",
          "model_module_version": "1.2.0",
          "state": {
            "_model_module": "@jupyter-widgets/base",
            "_model_module_version": "1.2.0",
            "_model_name": "LayoutModel",
            "_view_count": null,
            "_view_module": "@jupyter-widgets/base",
            "_view_module_version": "1.2.0",
            "_view_name": "LayoutView",
            "align_content": null,
            "align_items": null,
            "align_self": null,
            "border": null,
            "bottom": null,
            "display": null,
            "flex": null,
            "flex_flow": null,
            "grid_area": null,
            "grid_auto_columns": null,
            "grid_auto_flow": null,
            "grid_auto_rows": null,
            "grid_column": null,
            "grid_gap": null,
            "grid_row": null,
            "grid_template_areas": null,
            "grid_template_columns": null,
            "grid_template_rows": null,
            "height": null,
            "justify_content": null,
            "justify_items": null,
            "left": null,
            "margin": null,
            "max_height": null,
            "max_width": null,
            "min_height": null,
            "min_width": null,
            "object_fit": null,
            "object_position": null,
            "order": null,
            "overflow": null,
            "overflow_x": null,
            "overflow_y": null,
            "padding": null,
            "right": null,
            "top": null,
            "visibility": null,
            "width": null
          }
        },
        "2d114ea72994482bb55fdd0bfc3f6165": {
          "model_module": "@jupyter-widgets/controls",
          "model_name": "DescriptionStyleModel",
          "model_module_version": "1.5.0",
          "state": {
            "_model_module": "@jupyter-widgets/controls",
            "_model_module_version": "1.5.0",
            "_model_name": "DescriptionStyleModel",
            "_view_count": null,
            "_view_module": "@jupyter-widgets/base",
            "_view_module_version": "1.2.0",
            "_view_name": "StyleView",
            "description_width": ""
          }
        },
        "13368b87722145a795a4ae905d6c731e": {
          "model_module": "@jupyter-widgets/base",
          "model_name": "LayoutModel",
          "model_module_version": "1.2.0",
          "state": {
            "_model_module": "@jupyter-widgets/base",
            "_model_module_version": "1.2.0",
            "_model_name": "LayoutModel",
            "_view_count": null,
            "_view_module": "@jupyter-widgets/base",
            "_view_module_version": "1.2.0",
            "_view_name": "LayoutView",
            "align_content": null,
            "align_items": null,
            "align_self": null,
            "border": null,
            "bottom": null,
            "display": null,
            "flex": null,
            "flex_flow": null,
            "grid_area": null,
            "grid_auto_columns": null,
            "grid_auto_flow": null,
            "grid_auto_rows": null,
            "grid_column": null,
            "grid_gap": null,
            "grid_row": null,
            "grid_template_areas": null,
            "grid_template_columns": null,
            "grid_template_rows": null,
            "height": null,
            "justify_content": null,
            "justify_items": null,
            "left": null,
            "margin": null,
            "max_height": null,
            "max_width": null,
            "min_height": null,
            "min_width": null,
            "object_fit": null,
            "object_position": null,
            "order": null,
            "overflow": null,
            "overflow_x": null,
            "overflow_y": null,
            "padding": null,
            "right": null,
            "top": null,
            "visibility": null,
            "width": null
          }
        },
        "45d7791aaff44b02990f5e5e9cf72e4a": {
          "model_module": "@jupyter-widgets/controls",
          "model_name": "ProgressStyleModel",
          "model_module_version": "1.5.0",
          "state": {
            "_model_module": "@jupyter-widgets/controls",
            "_model_module_version": "1.5.0",
            "_model_name": "ProgressStyleModel",
            "_view_count": null,
            "_view_module": "@jupyter-widgets/base",
            "_view_module_version": "1.2.0",
            "_view_name": "StyleView",
            "bar_color": null,
            "description_width": ""
          }
        },
        "8c84a065bb29494a9cfe02c21bc0cbb6": {
          "model_module": "@jupyter-widgets/base",
          "model_name": "LayoutModel",
          "model_module_version": "1.2.0",
          "state": {
            "_model_module": "@jupyter-widgets/base",
            "_model_module_version": "1.2.0",
            "_model_name": "LayoutModel",
            "_view_count": null,
            "_view_module": "@jupyter-widgets/base",
            "_view_module_version": "1.2.0",
            "_view_name": "LayoutView",
            "align_content": null,
            "align_items": null,
            "align_self": null,
            "border": null,
            "bottom": null,
            "display": null,
            "flex": null,
            "flex_flow": null,
            "grid_area": null,
            "grid_auto_columns": null,
            "grid_auto_flow": null,
            "grid_auto_rows": null,
            "grid_column": null,
            "grid_gap": null,
            "grid_row": null,
            "grid_template_areas": null,
            "grid_template_columns": null,
            "grid_template_rows": null,
            "height": null,
            "justify_content": null,
            "justify_items": null,
            "left": null,
            "margin": null,
            "max_height": null,
            "max_width": null,
            "min_height": null,
            "min_width": null,
            "object_fit": null,
            "object_position": null,
            "order": null,
            "overflow": null,
            "overflow_x": null,
            "overflow_y": null,
            "padding": null,
            "right": null,
            "top": null,
            "visibility": null,
            "width": null
          }
        },
        "9b0b0972f9de41cb80b9d50ca82d6bb4": {
          "model_module": "@jupyter-widgets/controls",
          "model_name": "DescriptionStyleModel",
          "model_module_version": "1.5.0",
          "state": {
            "_model_module": "@jupyter-widgets/controls",
            "_model_module_version": "1.5.0",
            "_model_name": "DescriptionStyleModel",
            "_view_count": null,
            "_view_module": "@jupyter-widgets/base",
            "_view_module_version": "1.2.0",
            "_view_name": "StyleView",
            "description_width": ""
          }
        }
      }
    }
  },
  "cells": [
    {
      "cell_type": "markdown",
      "metadata": {
        "id": "view-in-github",
        "colab_type": "text"
      },
      "source": [
        "<a href=\"https://colab.research.google.com/github/uakarsh/latr/blob/main/examples/textvqa/LaTr_TextVQA_Part_4_Integrating_everything.ipynb\" target=\"_parent\"><img src=\"https://colab.research.google.com/assets/colab-badge.svg\" alt=\"Open In Colab\"/></a>"
      ]
    },
    {
      "cell_type": "markdown",
      "source": [
        "## Note that, this notebook works with High Memory RAM, and I am currently unable to run it on Colab GPU, since it gets its memory exceeded"
      ],
      "metadata": {
        "id": "OLwMGv7gz9Mr"
      }
    },
    {
      "cell_type": "code",
      "source": [
        "## Downloading the requirements\n",
        "\n",
        "!pip install -q transformers\n",
        "!pip install -q sentencepiece==0.1.91\n",
        "!pip install -q pytesseract\n",
        "!sudo apt install -q tesseract-ocr\n",
        "!pip install -q 'Pillow==7.1.2'\n",
        "!pip install -q pytorch-lightning"
      ],
      "metadata": {
        "id": "r86CIoH3yN8Q",
        "colab": {
          "base_uri": "https://localhost:8080/"
        },
        "outputId": "cefc2503-0450-4f9c-af48-8fd51ba4ba40"
      },
      "execution_count": null,
      "outputs": [
        {
          "output_type": "stream",
          "name": "stdout",
          "text": [
            "\u001b[K     |████████████████████████████████| 4.4 MB 5.2 MB/s \n",
            "\u001b[K     |████████████████████████████████| 86 kB 6.8 MB/s \n",
            "\u001b[K     |████████████████████████████████| 596 kB 52.1 MB/s \n",
            "\u001b[K     |████████████████████████████████| 6.6 MB 38.2 MB/s \n",
            "\u001b[K     |████████████████████████████████| 1.1 MB 4.8 MB/s \n",
            "\u001b[K     |████████████████████████████████| 3.1 MB 5.2 MB/s \n",
            "\u001b[31mERROR: pip's dependency resolver does not currently take into account all the packages that are installed. This behaviour is the source of the following dependency conflicts.\n",
            "albumentations 0.1.12 requires imgaug<0.2.7,>=0.2.5, but you have imgaug 0.2.9 which is incompatible.\u001b[0m\n",
            "\u001b[?25hReading package lists...\n",
            "Building dependency tree...\n",
            "Reading state information...\n",
            "The following package was automatically installed and is no longer required:\n",
            "  libnvidia-common-460\n",
            "Use 'sudo apt autoremove' to remove it.\n",
            "The following additional packages will be installed:\n",
            "  tesseract-ocr-eng tesseract-ocr-osd\n",
            "The following NEW packages will be installed:\n",
            "  tesseract-ocr tesseract-ocr-eng tesseract-ocr-osd\n",
            "0 upgraded, 3 newly installed, 0 to remove and 49 not upgraded.\n",
            "Need to get 4,795 kB of archives.\n",
            "After this operation, 15.8 MB of additional disk space will be used.\n",
            "Get:1 http://archive.ubuntu.com/ubuntu bionic/universe amd64 tesseract-ocr-eng all 4.00~git24-0e00fe6-1.2 [1,588 kB]\n",
            "Get:2 http://archive.ubuntu.com/ubuntu bionic/universe amd64 tesseract-ocr-osd all 4.00~git24-0e00fe6-1.2 [2,989 kB]\n",
            "Get:3 http://archive.ubuntu.com/ubuntu bionic/universe amd64 tesseract-ocr amd64 4.00~git2288-10f4998a-2 [218 kB]\n",
            "Fetched 4,795 kB in 1s (4,344 kB/s)\n",
            "debconf: unable to initialize frontend: Dialog\n",
            "debconf: (No usable dialog-like program is installed, so the dialog based frontend cannot be used. at /usr/share/perl5/Debconf/FrontEnd/Dialog.pm line 76, <> line 3.)\n",
            "debconf: falling back to frontend: Readline\n",
            "debconf: unable to initialize frontend: Readline\n",
            "debconf: (This frontend requires a controlling tty.)\n",
            "debconf: falling back to frontend: Teletype\n",
            "dpkg-preconfigure: unable to re-open stdin: \n",
            "Selecting previously unselected package tesseract-ocr-eng.\n",
            "(Reading database ... 155639 files and directories currently installed.)\n",
            "Preparing to unpack .../tesseract-ocr-eng_4.00~git24-0e00fe6-1.2_all.deb ...\n",
            "Unpacking tesseract-ocr-eng (4.00~git24-0e00fe6-1.2) ...\n",
            "Selecting previously unselected package tesseract-ocr-osd.\n",
            "Preparing to unpack .../tesseract-ocr-osd_4.00~git24-0e00fe6-1.2_all.deb ...\n",
            "Unpacking tesseract-ocr-osd (4.00~git24-0e00fe6-1.2) ...\n",
            "Selecting previously unselected package tesseract-ocr.\n",
            "Preparing to unpack .../tesseract-ocr_4.00~git2288-10f4998a-2_amd64.deb ...\n",
            "Unpacking tesseract-ocr (4.00~git2288-10f4998a-2) ...\n",
            "Setting up tesseract-ocr-osd (4.00~git24-0e00fe6-1.2) ...\n",
            "Setting up tesseract-ocr-eng (4.00~git24-0e00fe6-1.2) ...\n",
            "Setting up tesseract-ocr (4.00~git2288-10f4998a-2) ...\n",
            "Processing triggers for man-db (2.8.3-2ubuntu0.1) ...\n",
            "\u001b[K     |████████████████████████████████| 2.1 MB 5.1 MB/s \n",
            "\u001b[31mERROR: pip's dependency resolver does not currently take into account all the packages that are installed. This behaviour is the source of the following dependency conflicts.\n",
            "pytesseract 0.3.9 requires Pillow>=8.0.0, but you have pillow 7.1.2 which is incompatible.\n",
            "albumentations 0.1.12 requires imgaug<0.2.7,>=0.2.5, but you have imgaug 0.2.9 which is incompatible.\u001b[0m\n",
            "\u001b[K     |████████████████████████████████| 585 kB 5.1 MB/s \n",
            "\u001b[K     |████████████████████████████████| 419 kB 69.6 MB/s \n",
            "\u001b[K     |████████████████████████████████| 140 kB 67.2 MB/s \n",
            "\u001b[K     |████████████████████████████████| 1.1 MB 64.5 MB/s \n",
            "\u001b[K     |████████████████████████████████| 144 kB 66.0 MB/s \n",
            "\u001b[K     |████████████████████████████████| 94 kB 4.1 MB/s \n",
            "\u001b[K     |████████████████████████████████| 271 kB 64.8 MB/s \n",
            "\u001b[?25h"
          ]
        }
      ]
    },
    {
      "cell_type": "code",
      "source": [
        "!git clone https://github.com/uakarsh/latr.git\n",
        "import sys\n",
        "sys.path.append('/content/latr/src/latr/')"
      ],
      "metadata": {
        "id": "nyGaSE8uyaCq",
        "colab": {
          "base_uri": "https://localhost:8080/"
        },
        "outputId": "721ac33f-ad9f-49e1-e24a-6a22444d418f"
      },
      "execution_count": null,
      "outputs": [
        {
          "output_type": "stream",
          "name": "stdout",
          "text": [
            "Cloning into 'latr'...\n",
            "remote: Enumerating objects: 164, done.\u001b[K\n",
            "remote: Counting objects: 100% (164/164), done.\u001b[K\n",
            "remote: Compressing objects: 100% (117/117), done.\u001b[K\n",
            "remote: Total 164 (delta 63), reused 85 (delta 23), pack-reused 0\u001b[K\n",
            "Receiving objects: 100% (164/164), 683.59 KiB | 11.79 MiB/s, done.\n",
            "Resolving deltas: 100% (63/63), done.\n"
          ]
        }
      ]
    },
    {
      "cell_type": "code",
      "source": [
        "from google.colab import drive\n",
        "drive.mount('/content/drive')"
      ],
      "metadata": {
        "id": "Ua-_eesPMcI8",
        "colab": {
          "base_uri": "https://localhost:8080/"
        },
        "outputId": "fdd796c2-de22-4870-b777-3491765b0735"
      },
      "execution_count": null,
      "outputs": [
        {
          "output_type": "stream",
          "name": "stdout",
          "text": [
            "Mounted at /content/drive\n"
          ]
        }
      ]
    },
    {
      "cell_type": "code",
      "source": [
        "## Default Library import\n",
        "\n",
        "import os\n",
        "import json\n",
        "import numpy as np\n",
        "from tqdm.auto import tqdm\n",
        "import pandas as pd\n",
        "import json\n",
        "\n",
        "## For the purpose of displaying the progress of map function\n",
        "tqdm.pandas()\n",
        "\n",
        "## Visualization libraries\n",
        "from google.colab.patches import cv2_imshow\n",
        "import pytesseract\n",
        "from PIL import Image, ImageDraw\n",
        "\n",
        "## Specific libraries of LaTr\n",
        "import torch.nn as nn\n",
        "from dataset import load_json_file, get_specific_file, resize_align_bbox, get_tokens_with_boxes, create_features\n",
        "from modeling import LaTr_for_pretraining, LaTr_for_finetuning\n",
        "from utils import convert_ans_to_token, convert_ques_to_token, rotate, convert_token_to_ques, convert_token_to_answer\n",
        "\n",
        "## Setting up the device for GPU usage\n",
        "from torch import cuda\n",
        "device = 'cuda' if cuda.is_available() else 'cpu'"
      ],
      "metadata": {
        "id": "-_gXYvr0y9TV"
      },
      "execution_count": null,
      "outputs": []
    },
    {
      "cell_type": "code",
      "source": [
        "## Setting the hyperparameters as well as primary configurations\n",
        "\n",
        "PAD_TOKEN_BOX = [0, 0, 0, 0]\n",
        "max_seq_len = 512\n",
        "batch_size = 2\n",
        "target_size = (500,384)\n",
        "t5_model = \"t5-base\""
      ],
      "metadata": {
        "id": "DKz4ygsuNv8B"
      },
      "execution_count": null,
      "outputs": []
    },
    {
      "cell_type": "code",
      "source": [
        "## The TextVQA Dataset is present in my drive\n",
        "## It can be downloaded from this link: https://drive.google.com/drive/folders/1bR03cRGnPENCiUaurKSGTSNQHUQlsDCR?usp=sharing or from official dataset \n",
        "##  and place it in the google drive, thats it!!\n",
        "\n",
        "base_path = 'drive/MyDrive/TextVQA/'\n",
        "train_ocr_json_path = os.path.join(base_path, 'TextVQA_Rosetta_OCR_v0.2_train.json')\n",
        "train_json_path = os.path.join(base_path, 'TextVQA_0.5.1_train.json')\n",
        "\n",
        "val_ocr_json_path = os.path.join(base_path, 'TextVQA_Rosetta_OCR_v0.2_val.json')\n",
        "val_json_path = os.path.join(base_path, 'TextVQA_0.5.1_val.json')"
      ],
      "metadata": {
        "id": "8ClorTCszREw"
      },
      "execution_count": null,
      "outputs": []
    },
    {
      "cell_type": "code",
      "source": [
        "train_ocr_json = json.load(open(train_ocr_json_path))['data']\n",
        "train_json = json.load(open(train_json_path))['data']\n",
        "\n",
        "val_ocr_json = json.load(open(val_ocr_json_path))['data']\n",
        "val_json = json.load(open(val_json_path))['data']"
      ],
      "metadata": {
        "id": "TjXZNCoP0I0x"
      },
      "execution_count": null,
      "outputs": []
    },
    {
      "cell_type": "code",
      "source": [
        "## Useful for the key-value extraction\n",
        "\n",
        "train_json_df = pd.DataFrame(train_json)\n",
        "train_ocr_json_df = pd.DataFrame(train_ocr_json)\n",
        "\n",
        "val_json_df = pd.DataFrame(val_json)\n",
        "val_ocr_json_df = pd.DataFrame(val_ocr_json)"
      ],
      "metadata": {
        "id": "hjD8348YTJSd"
      },
      "execution_count": null,
      "outputs": []
    },
    {
      "cell_type": "code",
      "source": [
        "## Converting list to string\n",
        "\n",
        "train_json_df['answers'] = train_json_df['answers'].apply(lambda x: \" \".join(list(map(str, x))))\n",
        "val_json_df['answers']   = val_json_df['answers'].apply(lambda x: \" \".join(list(map(str, x))))"
      ],
      "metadata": {
        "id": "7Du-EoByODjD"
      },
      "execution_count": null,
      "outputs": []
    },
    {
      "cell_type": "code",
      "source": [
        "## Dropping of the images which doesn't exist, might take some time\n",
        "\n",
        "base_img_path = os.path.join('drive/MyDrive/TextVQA', 'train_images')\n",
        "train_json_df['path_exists'] = train_json_df['image_id'].progress_apply(lambda x: os.path.exists(os.path.join(base_img_path, x)+'.jpg'))\n",
        "train_json_df = train_json_df[train_json_df['path_exists']==True]\n",
        "\n",
        "val_json_df['path_exists'] = val_json_df['image_id'].progress_apply(lambda x: os.path.exists(os.path.join(base_img_path, x)+'.jpg'))\n",
        "val_json_df = val_json_df[val_json_df['path_exists']==True]"
      ],
      "metadata": {
        "id": "k-nEMDBNAVuy",
        "colab": {
          "base_uri": "https://localhost:8080/",
          "height": 81,
          "referenced_widgets": [
            "4d82525fdb424497a51b99f6c52cc0e9",
            "10606dfc988243c79848598af14f1178",
            "40049b2252b949e4a2a3fc3f597af813",
            "c501c33c1f2f4fbb97482bef7cb6c193",
            "6086bfa489b941678c05af97a39bd66c",
            "dcd1af3f989b4bcdaaded50e99acaf48",
            "93a3b566299f40eaa059785e14df3cea",
            "b1436bcd0a054aee98701dd6118f8ab1",
            "74c29190eee24a868116859e3f50dff5",
            "630b12c2543e4cb78f86a92ffd820f07",
            "9dd84f5d0c3247529622a4a37b04d4ab",
            "728f8183995f46359e97310a2e4d2541",
            "454a04f0c1304ce69493611e53d4ac1e",
            "5fe0f90013c5429eaf74c0e495dafac1",
            "e1467497b2824c9d8772fd3897757515",
            "44c702606daa4ed796db5e5920ea96e8",
            "3303531f18b240e58d446f2679548d21",
            "9c5c86936ade44aabc89e8a4fede45bd",
            "44b2f8bbedb84c6b995267ff1fb0a08a",
            "89bbe3903a554e58af4b798b62f4054c",
            "c3ed019c27314679bda2cf870f7185d5",
            "1f92808b95104f56b27665a2411dda3f"
          ]
        },
        "outputId": "0939244d-40a2-4409-e184-60f8bba32aca"
      },
      "execution_count": null,
      "outputs": [
        {
          "output_type": "display_data",
          "data": {
            "text/plain": [
              "  0%|          | 0/34602 [00:00<?, ?it/s]"
            ],
            "application/vnd.jupyter.widget-view+json": {
              "version_major": 2,
              "version_minor": 0,
              "model_id": "4d82525fdb424497a51b99f6c52cc0e9"
            }
          },
          "metadata": {}
        },
        {
          "output_type": "display_data",
          "data": {
            "text/plain": [
              "  0%|          | 0/5000 [00:00<?, ?it/s]"
            ],
            "application/vnd.jupyter.widget-view+json": {
              "version_major": 2,
              "version_minor": 0,
              "model_id": "728f8183995f46359e97310a2e4d2541"
            }
          },
          "metadata": {}
        }
      ]
    },
    {
      "cell_type": "code",
      "source": [
        "train_json_df.drop(columns = ['flickr_original_url', 'flickr_300k_url','image_classes', 'question_tokens', 'path_exists'\n",
        "                              ], axis = 1, inplace = True)\n",
        "val_json_df.drop(columns = ['flickr_original_url', 'flickr_300k_url','image_classes', 'question_tokens', 'path_exists'\n",
        "                              ], axis = 1, inplace = True)"
      ],
      "metadata": {
        "id": "lipkoibdUeFT",
        "colab": {
          "base_uri": "https://localhost:8080/"
        },
        "outputId": "d88109ef-3b8c-4212-d9a1-26bb9186d60a"
      },
      "execution_count": null,
      "outputs": [
        {
          "output_type": "stream",
          "name": "stderr",
          "text": [
            "/usr/local/lib/python3.7/dist-packages/pandas/core/frame.py:4913: SettingWithCopyWarning: \n",
            "A value is trying to be set on a copy of a slice from a DataFrame\n",
            "\n",
            "See the caveats in the documentation: https://pandas.pydata.org/pandas-docs/stable/user_guide/indexing.html#returning-a-view-versus-a-copy\n",
            "  errors=errors,\n"
          ]
        }
      ]
    },
    {
      "cell_type": "code",
      "source": [
        "## Deleting the json\n",
        "\n",
        "del train_json\n",
        "del train_ocr_json\n",
        "del val_json\n",
        "del val_ocr_json"
      ],
      "metadata": {
        "id": "Y_ABFoJsTpvd"
      },
      "execution_count": null,
      "outputs": []
    },
    {
      "cell_type": "code",
      "source": [
        "## Grouping for the purpose of feature extraction\n",
        "grouped_df = train_json_df.groupby('image_id')\n",
        "\n",
        "## Getting all the unique keys of the group by object\n",
        "keys = list(grouped_df.groups.keys())"
      ],
      "metadata": {
        "id": "zeloNT7dT51I"
      },
      "execution_count": null,
      "outputs": []
    },
    {
      "cell_type": "code",
      "source": [
        "label2id = {}   ## Would be responsible for mapping answer to token\n",
        "raw_answer = train_json_df['answers'].values.tolist()"
      ],
      "metadata": {
        "id": "87QnZDDdRLKd"
      },
      "execution_count": null,
      "outputs": []
    },
    {
      "cell_type": "code",
      "source": [
        "current_word_id = 1   ## Not zero, because T5 tokenizer has a pad_token_id = 0, and we would keep pad token id to be 0 for padding the answer\n",
        "\n",
        "for ans in tqdm(raw_answer):\n",
        "  for word in ans.split(\" \"):\n",
        "\n",
        "    if word not in label2id:\n",
        "      label2id[word] = {'id':current_word_id, 'count': 1}\n",
        "      current_word_id+=1\n",
        "      \n",
        "    else:\n",
        "      label2id[word]['count']+=1"
      ],
      "metadata": {
        "id": "cmSwCnAuReuS",
        "colab": {
          "base_uri": "https://localhost:8080/",
          "height": 49,
          "referenced_widgets": [
            "64f5b8438dd44f5285d47d50253a2489",
            "b03f6e026d964b1ab4a7c9c93d470205",
            "664469246c644afe857e326af254b1a1",
            "f367121c172b4b8faeeb3118104b4525",
            "17dc88dadbfb45629819732dd33d6462",
            "cb1c3c3d851b456d949eb55dd6136a59",
            "0140dfab066b4b3e94fd5f2dccfd70ef",
            "20de19b1fe54493082d7a06f0f1576cd",
            "56cf4490bed24cc49e28a47697f869e7",
            "cb7ff159221b404d8cab11acf5854c1b",
            "374a76a364534a0eb4e9802c78ef2fe4"
          ]
        },
        "outputId": "17cbb637-2ca3-4548-e7d3-c30318334cf8"
      },
      "execution_count": null,
      "outputs": [
        {
          "output_type": "display_data",
          "data": {
            "text/plain": [
              "  0%|          | 0/27068 [00:00<?, ?it/s]"
            ],
            "application/vnd.jupyter.widget-view+json": {
              "version_major": 2,
              "version_minor": 0,
              "model_id": "64f5b8438dd44f5285d47d50253a2489"
            }
          },
          "metadata": {}
        }
      ]
    },
    {
      "cell_type": "code",
      "source": [
        "## Adding the validation answer tokens as well\n",
        "\n",
        "raw_answer = val_json_df['answers'].values.tolist()\n",
        "for ans in tqdm(raw_answer):\n",
        "  for word in ans.split(\" \"):\n",
        "\n",
        "    if word not in label2id:\n",
        "      label2id[word] = {'id':current_word_id, 'count': 1}\n",
        "      current_word_id+=1\n",
        "      \n",
        "    else:\n",
        "      label2id[word]['count']+=1"
      ],
      "metadata": {
        "id": "CZV2l3RcX2XL",
        "colab": {
          "base_uri": "https://localhost:8080/",
          "height": 49,
          "referenced_widgets": [
            "c7b9af354b954d61be01902a3d94ea41",
            "38434a2acc7b4c83bf13317e60cd043b",
            "c01bee7f283f419aa5c3a2c454ea0dc5",
            "238cba62343b451ebeaa9e6e96b638d7",
            "012450da6b5c41c48c80a97408ef3ac7",
            "ae39654af6fc4cc28b758b29cdf1922f",
            "08e38b8cc15c4c75863447bbae7dab90",
            "d3e07b55695f4888b779341932272725",
            "404ec9becc3f450da4eb6e941815f541",
            "e29d0c5e36214f8584479d61ba1c0941",
            "24a0499061b04ca68684651d61634cc5"
          ]
        },
        "outputId": "18ef3db7-bd9e-4fa4-a909-6073e3c13f40"
      },
      "execution_count": null,
      "outputs": [
        {
          "output_type": "display_data",
          "data": {
            "text/plain": [
              "  0%|          | 0/3892 [00:00<?, ?it/s]"
            ],
            "application/vnd.jupyter.widget-view+json": {
              "version_major": 2,
              "version_minor": 0,
              "model_id": "c7b9af354b954d61be01902a3d94ea41"
            }
          },
          "metadata": {}
        }
      ]
    },
    {
      "cell_type": "code",
      "source": [
        "id2label = [\"\" for _ in range(current_word_id)]\n",
        "for key, value in list(label2id.items()):\n",
        "  id2label[value['id']] = key"
      ],
      "metadata": {
        "id": "vwDtJQPySOsb"
      },
      "execution_count": null,
      "outputs": []
    },
    {
      "cell_type": "code",
      "source": [
        "from transformers import T5Tokenizer, T5ForConditionalGeneration\n",
        "tokenizer = T5Tokenizer.from_pretrained(t5_model)"
      ],
      "metadata": {
        "id": "_0YMTxHjfw1R",
        "colab": {
          "base_uri": "https://localhost:8080/",
          "height": 205,
          "referenced_widgets": [
            "db191ce44ab847ba9eadbccf1e640687",
            "ea45f3ed0a0d4f0d8ce24c5e3a8ff1f5",
            "3094a285c7bf4524bbdb5f4259661214",
            "1a26e98925984f499f4f21d3cbe6ac3a",
            "13ac9fd0106447bbbc79ebe5b6e8869a",
            "fac38fb85850440cb7618a7f405a8651",
            "7194e3366d2c4f859d7ade5d846ce7b7",
            "ee18c450eaad41c897a8fc2ce8ff0c8b",
            "ba873cf50bab4aa78f6acc5ed597ffb1",
            "b1cdf08183614ebebce39a10e26697b2",
            "b63440441cca4d6fa3df7a9bf65aef50",
            "2ffd597a86f749e3891b0bfabf8197fd",
            "540fb17a6d7e4e34b751ebd12cb2ad8f",
            "32a8fea4520d46f6abb91edcd4c480b9",
            "1bf89855c9f246ef9e89aecba349875b",
            "7c6853167a8744f58674d16a48be2d4f",
            "751733346997489099976ce0cff5b2be",
            "2d114ea72994482bb55fdd0bfc3f6165",
            "13368b87722145a795a4ae905d6c731e",
            "45d7791aaff44b02990f5e5e9cf72e4a",
            "8c84a065bb29494a9cfe02c21bc0cbb6",
            "9b0b0972f9de41cb80b9d50ca82d6bb4"
          ]
        },
        "outputId": "2f1a6cdb-99ef-46c9-aeb5-f68fc206de0f"
      },
      "execution_count": null,
      "outputs": [
        {
          "output_type": "display_data",
          "data": {
            "text/plain": [
              "Downloading:   0%|          | 0.00/773k [00:00<?, ?B/s]"
            ],
            "application/vnd.jupyter.widget-view+json": {
              "version_major": 2,
              "version_minor": 0,
              "model_id": "db191ce44ab847ba9eadbccf1e640687"
            }
          },
          "metadata": {}
        },
        {
          "output_type": "display_data",
          "data": {
            "text/plain": [
              "Downloading:   0%|          | 0.00/1.17k [00:00<?, ?B/s]"
            ],
            "application/vnd.jupyter.widget-view+json": {
              "version_major": 2,
              "version_minor": 0,
              "model_id": "2ffd597a86f749e3891b0bfabf8197fd"
            }
          },
          "metadata": {}
        },
        {
          "output_type": "stream",
          "name": "stderr",
          "text": [
            "/usr/local/lib/python3.7/dist-packages/transformers/models/t5/tokenization_t5.py:174: FutureWarning: This tokenizer was incorrectly instantiated with a model max length of 512 which will be corrected in Transformers v5.\n",
            "For now, this behavior is kept to avoid breaking backwards compatibility when padding/encoding with `truncation is True`.\n",
            "- Be aware that you SHOULD NOT rely on t5-base automatically truncating your input to 512 when padding/encoding.\n",
            "- If you want to encode/pad to sequences longer than 512 you can either instantiate this tokenizer with `model_max_length` or pass `max_length` when encoding/padding.\n",
            "- To avoid this warning, please instantiate this tokenizer with `model_max_length` set to your preferred value.\n",
            "  FutureWarning,\n"
          ]
        }
      ]
    },
    {
      "cell_type": "markdown",
      "source": [
        "## Making the Dataset"
      ],
      "metadata": {
        "id": "8l8qH9ZYDFjh"
      }
    },
    {
      "cell_type": "code",
      "source": [
        "## Defining the pytorch dataset\n",
        "\n",
        "from torch.utils.data import Dataset, DataLoader\n",
        "import torch\n",
        "from torchvision import transforms\n",
        "\n",
        "class TextVQA(Dataset):\n",
        "  def __init__(self, base_img_path, json_df, ocr_json_df, tokenizer ,label2id, transform = None, max_seq_length = 512, target_size = (500,384)):\n",
        "\n",
        "    self.base_img_path = base_img_path\n",
        "    self.json_df = json_df\n",
        "    self.ocr_json_df = ocr_json_df\n",
        "    self.tokenizer = tokenizer\n",
        "    self.target_size = target_size\n",
        "    self.transform = transform\n",
        "    self.max_seq_length = max_seq_length\n",
        "    self.label2id = label2id\n",
        "\n",
        "  def __len__(self):\n",
        "    return len(self.json_df)\n",
        "\n",
        "  def __getitem__(self, idx):\n",
        "\n",
        "    curr_img = self.json_df.iloc[idx]['image_id']\n",
        "    ocr_token = self.ocr_json_df[self.ocr_json_df['image_id']==curr_img]['ocr_info'].values.tolist()[0]\n",
        "\n",
        "    boxes = []\n",
        "    words = []\n",
        "\n",
        "    current_group = self.json_df.iloc[idx]\n",
        "    width, height = current_group['image_width'], current_group['image_height']\n",
        "\n",
        "    ## Getting the ocr and the corresponding bounding boxes\n",
        "    for entry in ocr_token:\n",
        "      xmin, ymin, w, h, angle = entry['bounding_box']['top_left_x'], entry['bounding_box']['top_left_y'],  entry['bounding_box']['width'],  entry['bounding_box']['height'], entry['bounding_box']['rotation']\n",
        "      xmin, ymin,w, h = resize_align_bbox([xmin, ymin, w, h], 1, 1, width, height)\n",
        "\n",
        "      x_centre = xmin + (w/2)\n",
        "      y_centre = ymin + (h/2)\n",
        "\n",
        "      # print(\"The angle is:\", angle)\n",
        "      xmin, ymin = rotate([x_centre, y_centre], [xmin, ymin], angle)\n",
        "\n",
        "      xmax = xmin + w\n",
        "      ymax = ymin + h\n",
        "\n",
        "      ## Bounding boxes are normalized\n",
        "      curr_bbox = [xmin, ymin, xmax, ymax]\n",
        "      boxes.append(curr_bbox)\n",
        "      words.append(entry['word'])\n",
        "\n",
        "    img_path = os.path.join(self.base_img_path, curr_img)+'.jpg'  ## Adding .jpg at end of the image, as the grouped key does not have the extension format \n",
        "\n",
        "    assert os.path.exists(img_path)==True, f'Make sure that the image exists at {img_path}!!'\n",
        "    ## Extracting the feature\n",
        "    img, boxes, tokenized_words = create_features(image_path = img_path,\n",
        "                                                  tokenizer = self.tokenizer,\n",
        "                                                  target_size = self.target_size,\n",
        "                                                  max_seq_length = self.max_seq_length,\n",
        "                                                  use_ocr = False,\n",
        "                                                  bounding_box = boxes,\n",
        "                                                  words = words\n",
        "                                                  )\n",
        "    \n",
        "    ## Converting the boxes as per the format required for model input\n",
        "    boxes = torch.as_tensor(boxes, dtype=torch.int32)\n",
        "    width = (boxes[:, 2] - boxes[:, 0]).view(-1, 1)\n",
        "    height = (boxes[:, 3] - boxes[:, 1]).view(-1, 1)\n",
        "    boxes = torch.cat([boxes, width, height], axis = -1)\n",
        "\n",
        "    ## Tensor tokenized words\n",
        "    tokenized_words = torch.as_tensor(tokenized_words, dtype=torch.int32)\n",
        "\n",
        "    if self.transform is not None:\n",
        "      img = self.transform(img)\n",
        "    else:\n",
        "      img = transforms.ToTensor()(img)\n",
        "\n",
        "\n",
        "    ## Getting the Question\n",
        "    question = current_group['question']   \n",
        "    question = convert_ques_to_token(question = question, tokenizer = self.tokenizer)\n",
        "\n",
        "    ## Getting the Answer\n",
        "    answer = current_group['answers']\n",
        "    answer = convert_ans_to_token(answer, self.label2id).long()\n",
        "\n",
        "    return {'img':img, 'boxes': boxes, 'tokenized_words': tokenized_words, 'question': question, 'answer': answer}"
      ],
      "metadata": {
        "id": "X9jE7KKRPFkg"
      },
      "execution_count": null,
      "outputs": []
    },
    {
      "cell_type": "code",
      "source": [
        "train_ds = TextVQA(base_img_path = base_img_path,\n",
        "                   json_df = train_json_df,\n",
        "                   ocr_json_df = train_ocr_json_df,\n",
        "                   tokenizer = tokenizer,\n",
        "                   label2id = label2id,\n",
        "                   transform = None, \n",
        "                   max_seq_length = max_seq_len, \n",
        "                   target_size = target_size\n",
        "                   )\n",
        "\n",
        "\n",
        "val_ds = TextVQA(base_img_path = base_img_path,\n",
        "                   json_df = val_json_df,\n",
        "                   ocr_json_df = val_ocr_json_df,\n",
        "                   tokenizer = tokenizer,\n",
        "                   label2id = label2id,\n",
        "                   transform = None, \n",
        "                   max_seq_length = max_seq_len, \n",
        "                   target_size = target_size\n",
        "                   )"
      ],
      "metadata": {
        "id": "ybhCeKY2aSZd"
      },
      "execution_count": null,
      "outputs": []
    },
    {
      "cell_type": "code",
      "source": [
        "# idx = 2"
      ],
      "metadata": {
        "id": "oPpnuqANe6j8"
      },
      "execution_count": null,
      "outputs": []
    },
    {
      "cell_type": "code",
      "source": [
        "# encoding = train_ds[idx]  ## Might take time as per the processing"
      ],
      "metadata": {
        "id": "LwbsVenve7n7"
      },
      "execution_count": null,
      "outputs": []
    },
    {
      "cell_type": "code",
      "source": [
        "# for key in list(encoding.keys()):\n",
        "#   print_statement = '{0: <30}'.format(str(key) + \" has a shape:\")\n",
        "#   print(print_statement, encoding[key].shape)"
      ],
      "metadata": {
        "id": "QDnjxoPaukdv"
      },
      "execution_count": null,
      "outputs": []
    },
    {
      "cell_type": "code",
      "source": [
        "# ## Sample Img, Sample box, sample words, sample answer, sample question\n",
        "\n",
        "# s_img = encoding['img']\n",
        "# s_boxes = encoding['boxes']\n",
        "# s_words = encoding['tokenized_words']\n",
        "# s_ans = encoding['answer']\n",
        "# s_ques = encoding['question']"
      ],
      "metadata": {
        "id": "AGUXoIWkf9lP"
      },
      "execution_count": null,
      "outputs": []
    },
    {
      "cell_type": "markdown",
      "source": [
        "## Decoding the Question, Answer as well as the Image for the post-processing"
      ],
      "metadata": {
        "id": "sFfIfM8_K_gX"
      }
    },
    {
      "cell_type": "markdown",
      "source": [
        "### 1. Image Part"
      ],
      "metadata": {
        "id": "1DjQAqAfMvWA"
      }
    },
    {
      "cell_type": "code",
      "source": [
        "# ## OCR and Image part\n",
        "# actual_img = transforms.ToPILImage()(s_img).convert(\"RGB\")\n",
        "# actual_boxes = s_boxes[:, :4].numpy().tolist()  ## (xmin, ymin, xmax, ymax)"
      ],
      "metadata": {
        "id": "uFs-5XMigMD-"
      },
      "execution_count": null,
      "outputs": []
    },
    {
      "cell_type": "code",
      "source": [
        "# from PIL import Image, ImageDraw\n",
        "\n",
        "# # create rectangle image\n",
        "# draw_on_img = ImageDraw.Draw(actual_img)  \n",
        "\n",
        "# for box in actual_boxes:\n",
        "#   draw_on_img.rectangle(box, outline =\"red\")\n"
      ],
      "metadata": {
        "id": "QEgQAAZOgdvU"
      },
      "execution_count": null,
      "outputs": []
    },
    {
      "cell_type": "code",
      "source": [
        "# actual_img"
      ],
      "metadata": {
        "id": "hYitD-Uwx5EY"
      },
      "execution_count": null,
      "outputs": []
    },
    {
      "cell_type": "markdown",
      "source": [
        "### 2. Question Part"
      ],
      "metadata": {
        "id": "sSBYRkXdMy-o"
      }
    },
    {
      "cell_type": "code",
      "source": [
        "# decoded_ques = convert_token_to_ques(s_ques, tokenizer)\n",
        "# print(decoded_ques)  ## Goes well!!"
      ],
      "metadata": {
        "id": "RZMwxyHMMW3r"
      },
      "execution_count": null,
      "outputs": []
    },
    {
      "cell_type": "markdown",
      "source": [
        "### 3. Answer Part"
      ],
      "metadata": {
        "id": "e19RH2OfM1ID"
      }
    },
    {
      "cell_type": "code",
      "source": [
        "# decoded_answer = convert_token_to_answer(s_ans, id2label)\n",
        "# print(decoded_answer)  ## Goes Well!!"
      ],
      "metadata": {
        "id": "4rBNtJJeO8IQ"
      },
      "execution_count": null,
      "outputs": []
    },
    {
      "cell_type": "markdown",
      "source": [
        "## Making the DataLoader"
      ],
      "metadata": {
        "id": "nRNEhRLIUiY_"
      }
    },
    {
      "cell_type": "code",
      "source": [
        "from transformers import ViTFeatureExtractor, ViTModel\n",
        "vit_feat_extract = ViTFeatureExtractor(\"google/vit-base-patch16-224-in21k\")"
      ],
      "metadata": {
        "id": "O2Kd4Gw52FEo"
      },
      "execution_count": null,
      "outputs": []
    },
    {
      "cell_type": "code",
      "source": [
        "def collate_fn(data_bunch):\n",
        "\n",
        "  '''\n",
        "  A function for the dataloader to return a batch dict of given keys\n",
        "\n",
        "  data_bunch: List of dictionary\n",
        "  '''\n",
        "\n",
        "  dict_data_bunch = {}\n",
        "\n",
        "  for i in data_bunch:\n",
        "    for (key, value) in i.items():\n",
        "      if key not in dict_data_bunch:\n",
        "        dict_data_bunch[key] = []\n",
        "      dict_data_bunch[key].append(value)\n",
        "\n",
        "  for key in list(dict_data_bunch.keys()):\n",
        "      dict_data_bunch[key] = torch.stack(dict_data_bunch[key], axis = 0)\n",
        "\n",
        "  if 'img' in dict_data_bunch:\n",
        "    ## Pre-processing for ViT\n",
        "    dict_data_bunch['img'] = vit_feat_extract(list(dict_data_bunch['img']),return_tensors = 'pt')['pixel_values']\n",
        "\n",
        "  return dict_data_bunch"
      ],
      "metadata": {
        "id": "OWJX6VFFN6su"
      },
      "execution_count": null,
      "outputs": []
    },
    {
      "cell_type": "code",
      "source": [
        "import pytorch_lightning as pl\n",
        "\n",
        "class DataModule(pl.LightningDataModule):\n",
        "\n",
        "  def __init__(self, train_dataset, val_dataset,  batch_size = 2):\n",
        "\n",
        "    super(DataModule, self).__init__()\n",
        "    self.train_dataset = train_dataset\n",
        "    self.val_dataset = val_dataset\n",
        "    self.batch_size = batch_size\n",
        "\n",
        "  def train_dataloader(self):\n",
        "    return DataLoader(self.train_dataset, batch_size = self.batch_size, \n",
        "                      collate_fn = collate_fn, shuffle = True)\n",
        "  \n",
        "  def val_dataloader(self):\n",
        "    return DataLoader(self.val_dataset, batch_size = self.batch_size,\n",
        "                                  collate_fn = collate_fn, shuffle = False)"
      ],
      "metadata": {
        "id": "r9jqgGGkUkeO"
      },
      "execution_count": null,
      "outputs": []
    },
    {
      "cell_type": "markdown",
      "source": [
        "## Modeling"
      ],
      "metadata": {
        "id": "rFQUQOr7w_9q"
      }
    },
    {
      "cell_type": "code",
      "source": [
        "## keys are img, boxes, tokenized_words, answer, question"
      ],
      "metadata": {
        "id": "-btmDfw-UxNZ"
      },
      "execution_count": null,
      "outputs": []
    },
    {
      "cell_type": "code",
      "source": [
        "config = {\n",
        "    't5_model': 't5-base',\n",
        "    'vocab_size': 32128,\n",
        "    'hidden_state': 768,\n",
        "    'max_2d_position_embeddings': 1001,\n",
        "    'classes': current_word_id,\n",
        "    'seq_len': 512\n",
        "}"
      ],
      "metadata": {
        "id": "0kJ2kOk4yW1E"
      },
      "execution_count": null,
      "outputs": []
    },
    {
      "cell_type": "code",
      "source": [
        "device = 'cuda' if torch.cuda.is_available() else 'cpu'"
      ],
      "metadata": {
        "id": "nEp9Bm2D3-SM"
      },
      "execution_count": null,
      "outputs": []
    },
    {
      "cell_type": "code",
      "source": [
        "# finetuned_latr = LaTr_for_finetuning(config).to(device)\n",
        "# datamodule = DataModule(train_ds, val_ds)"
      ],
      "metadata": {
        "id": "sa0JrVmp0_Od"
      },
      "execution_count": null,
      "outputs": []
    },
    {
      "cell_type": "code",
      "source": [
        "from sklearn.metrics import accuracy_score\n",
        "\n",
        "## https://stackoverflow.com/questions/69899602/linear-decay-as-learning-rate-scheduler-pytorch\n",
        "def polynomial(base_lr, iter, max_iter = 1e5, power = 1):\n",
        "    return base_lr * ((1 - float(iter) / max_iter) ** power)\n",
        "\n",
        "class LaTrForVQA(pl.LightningModule):\n",
        "  def __init__(self, config , learning_rate = 1e-4):\n",
        "    super(LaTrForVQA, self).__init__()\n",
        "    \n",
        "    self.config = config\n",
        "    self.save_hyperparameters()\n",
        "    self.latr =  LaTr_for_finetuning(config)\n",
        "    self.training_losses = []\n",
        "    self.validation_losses = []\n",
        "\n",
        "  def configure_optimizers(self):\n",
        "    return torch.optim.AdamW(self.parameters(), lr = self.hparams['learning_rate'])\n",
        "\n",
        "  def forward(self, batch_dict):\n",
        "    boxes =   batch_dict['boxes']\n",
        "    img =     batch_dict['img']\n",
        "    question = batch_dict['question']\n",
        "    words =   batch_dict['tokenized_words']\n",
        "    answer_vector = self.latr(lang_vect = words, \n",
        "                               spatial_vect = boxes, \n",
        "                               img_vect = img, \n",
        "                               quest_vect = question\n",
        "                               )\n",
        "    return answer_vector\n",
        "\n",
        "  def calculate_metrics(self, prediction, labels):\n",
        "\n",
        "      ## Calculate the accuracy score between the prediction and ground label for a batch, with considering the pad sequence\n",
        "      batch_size = len(prediction)\n",
        "      ac_score = 0\n",
        "\n",
        "      for (pred, gt) in zip(prediction, labels):\n",
        "        ac_score+= accuracy_score(pred.detach().cpu().numpy(), gt.detach().cpu().numpy())\n",
        "      ac_score = ac_score/batch_size\n",
        "      return ac_score\n",
        "\n",
        "  def training_step(self, batch, batch_idx):\n",
        "    answer_vector = self.forward(batch)\n",
        "\n",
        "    ## https://discuss.huggingface.co/t/bertformaskedlm-s-loss-and-scores-how-the-loss-is-computed/607/2\n",
        "    loss = nn.CrossEntropyLoss()(answer_vector.reshape(-1,self.config['classes']), batch['answer'].reshape(-1))\n",
        "    _, preds = torch.max(answer_vector, dim = -1)\n",
        "\n",
        "    ## Calculating the accuracy score\n",
        "    train_acc = self.calculate_metrics(preds, batch['answer'])\n",
        "    train_acc = torch.tensor(train_acc)\n",
        "\n",
        "    ## Logging\n",
        "    self.log('train_ce_loss', loss,prog_bar = True)\n",
        "    self.log('train_acc', train_acc, prog_bar = True)\n",
        "    self.training_losses.append(loss.item())\n",
        "\n",
        "    return loss\n",
        "\n",
        "  def validation_step(self, batch, batch_idx):\n",
        "    logits = self.forward(batch)\n",
        "    loss = nn.CrossEntropyLoss()(logits.reshape(-1,self.config['classes']), batch['answer'].reshape(-1))\n",
        "    _, preds = torch.max(logits, dim = -1)\n",
        "\n",
        "    ## Validation Accuracy\n",
        "    val_acc = self.calculate_metrics(preds.cpu(), batch['answer'].cpu())\n",
        "    val_acc = torch.tensor(val_acc)\n",
        "\n",
        "    ## Logging\n",
        "    self.log('val_ce_loss', loss, prog_bar = True)\n",
        "    self.log('val_acc', val_acc, prog_bar = True)\n",
        "    self.validation_losses.append(loss.item())\n",
        "\n",
        "  ## For the fine-tuning stage, Warm-up period is set to 1,000 steps and again is linearly decayed to zero, pg. 12, of the paper\n",
        "  ## Refer here: https://github.com/Lightning-AI/lightning/issues/328#issuecomment-550114178\n",
        "  def optimizer_step(self, epoch_nb, batch_nb, optimizer, optimizer_i, opt_closure = None, on_tpu=False,\n",
        "    using_native_amp=False,\n",
        "    using_lbfgs=False):\n",
        "\n",
        "        ## Warmup for 1000 steps\n",
        "        if self.trainer.global_step < 1000:\n",
        "            lr_scale = min(1., float(self.trainer.global_step + 1) / 1000.)\n",
        "            for pg in optimizer.param_groups:\n",
        "                pg['lr'] = lr_scale * self.hparams.learning_rate\n",
        "\n",
        "        ## Linear Decay\n",
        "        else:\n",
        "            for pg in optimizer.param_groups:\n",
        "                pg['lr'] = polynomial(self.hparams.learning_rate, self.trainer.global_step)\n",
        "\n",
        "        optimizer.step(opt_closure)\n",
        "        optimizer.zero_grad()\n",
        "\n",
        "\n",
        "  def training_epoch_end(self, training_step_outputs):\n",
        "    train_loss_mean = np.mean(self.training_losses)\n",
        "    self.logger.experiment.add_scalar('training_loss', train_loss_mean, global_step=self.current_epoch)\n",
        "    self.training_losses = []  # reset for next epoch\n",
        "\n",
        "  def validation_epoch_end(self, validation_step_outputs):\n",
        "    val_loss_mean = np.mean(self.training_losses)\n",
        "    self.logger.experiment.add_scalar('validation_loss', val_loss_mean, global_step=self.current_epoch)\n",
        "    self.validation_losses = []  # reset for next epoch"
      ],
      "metadata": {
        "id": "UtvisUqvmSz3"
      },
      "execution_count": null,
      "outputs": []
    },
    {
      "cell_type": "code",
      "source": [
        "from pytorch_lightning.callbacks import ModelCheckpoint\n",
        "\n",
        "def main():\n",
        "    datamodule = DataModule(train_ds, val_ds)\n",
        "    latr = LaTrForVQA(config)\n",
        "\n",
        "    checkpoint_callback = ModelCheckpoint(\n",
        "        dirpath=\"./models\", monitor=\"val_ce_loss\", mode=\"min\"\n",
        "    )\n",
        "    \n",
        "    ## https://www.tutorialexample.com/implement-reproducibility-in-pytorch-lightning-pytorch-lightning-tutorial/\n",
        "    pl.seed_everything(42, workers=True)\n",
        "    trainer = pl.Trainer(\n",
        "        max_steps = 100000,\n",
        "        default_root_dir=\"logs\",\n",
        "        gpus=(1 if torch.cuda.is_available() else 0),\n",
        "        fast_dev_run=False,\n",
        "        logger=pl.loggers.TensorBoardLogger(\"logs/\", name=\"textvqa_dataset\", version=1),\n",
        "        callbacks=[checkpoint_callback],\n",
        "        deterministic=True\n",
        "    )\n",
        "    trainer.fit(latr, datamodule)"
      ],
      "metadata": {
        "id": "dR_3-4qxuDIi"
      },
      "execution_count": null,
      "outputs": []
    },
    {
      "cell_type": "code",
      "source": [
        "if __name__ == \"__main__\":\n",
        "    main()"
      ],
      "metadata": {
        "id": "OjzjeQ4TuilG"
      },
      "execution_count": null,
      "outputs": []
    }
  ]
}